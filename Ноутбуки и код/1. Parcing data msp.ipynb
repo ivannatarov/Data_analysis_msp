{
 "cells": [
  {
   "cell_type": "markdown",
   "metadata": {},
   "source": [
    "<p id=\"part0\"></p>\n",
    "\n",
    "<p style=\"font-family: Verdana; line-height: 1.4; font-size: 24px; font-weight: bold; letter-spacing: 2px; text-align: center; color: #00008B\">Скрипты по обработке данных с сайта Федеральной налоговой службы Российской Федерации</p>\n",
    "\n",
    "<p style=\"font-family: Verdana; text-align: center\"><a href=\"https://www.nalog.ru/opendata\">Открытые данные</a></p>"
   ]
  },
  {
   "cell_type": "markdown",
   "metadata": {},
   "source": [
    "<p style=\"font-family: Verdana; font-size: 16px; font-style: normal; font-weight: bold; letter-spacing: 3px; color: #00008B; line-height:0.3\">СОДЕРЖАНИЕ</p>\n",
    "<hr style=\"height: 0.5px; border: 0; background-color: Gray; line-height:0.3\">\n",
    "\n",
    "<p style=\"text-indent: 1vw; font-family: Verdana; font-size: 14px; font-style: normal; font-weight: normal; letter-spacing: 2px; color: #00008B; line-height:0.3\">\n",
    "<a href=\"#part1\">0 Импортирование библиотек</a></p>\n",
    "<hr style=\"height: 0.5px; border: 0; background-color: Gray; line-height:0.3\">\n",
    "\n",
    "<p style=\"text-indent: 1vw; font-family: Verdana; font-size: 14px; font-style: normal; font-weight: normal; letter-spacing: 2px; color: #00008B; line-height:0.3\">\n",
    "<a href=\"#part2\">1 Обработка реестра МСП</a></p>\n",
    "<hr style=\"height: 0.5px; border: 0; background-color: Gray; line-height:0.3\">\n",
    "\n",
    "<p style=\"text-indent: 1vw; font-family: Verdana; font-size: 14px; font-style: normal; font-weight: normal; letter-spacing: 2px; color: #00008B; line-height:0.3\">\n",
    "<a href=\"#part3\">2 Создание списка ИНН</a></p>\n",
    "<hr style=\"height: 0.5px; border: 0; background-color: Gray; line-height:0.3\">\n",
    "\n",
    "<p style=\"text-indent: 1vw; font-family: Verdana; font-size: 14px; font-style: normal; font-weight: normal; letter-spacing: 2px; color: #00008B; line-height:0.3\">\n",
    "<a href=\"#part4\">3 Обработка иных данных</a></p>\n",
    "<hr style=\"height: 0.5px; border: 0; background-color: Gray; line-height:0.3\">\n",
    "\n",
    "<p style=\"text-indent: 2vw; font-family: Verdana; font-size: 12px; font-style: normal; font-weight: normal; letter-spacing: 2px; color: #00008B; line-height:0.3\">\n",
    "<a href=\"#part5\">3.1 Доход и расход</a></p>\n",
    "<hr style=\"height: 0.5px; border: 0; background-color: Gray; line-height:0.3\">\n",
    "\n",
    "<p style=\"text-indent: 2vw; font-family: Verdana; font-size: 12px; font-style: normal; font-weight: normal; letter-spacing: 2px; color: #00008B; line-height:0.3\">\n",
    "<a href=\"#part6\">3.2 Налоговые режимы</a></p>\n",
    "<hr style=\"height: 0.5px; border: 0; background-color: Gray; line-height:0.3\">\n",
    "\n",
    "<p style=\"text-indent: 2vw; font-family: Verdana; font-size: 12px; font-style: normal; font-weight: normal; letter-spacing: 2px; color: #00008B; line-height:0.3\">\n",
    "<a href=\"#part7\">3.3 Уплаченные налоги</a></p>\n",
    "<hr style=\"height: 0.5px; border: 0; background-color: Gray; line-height:0.3\">\n",
    "\n",
    "<p style=\"text-indent: 2vw; font-family: Verdana; font-size: 12px; font-style: normal; font-weight: normal; letter-spacing: 2px; color: #00008B; line-height:0.3\">\n",
    "<a href=\"#part8\">3.4 Недоимка</a></p>\n",
    "<hr style=\"height: 0.5px; border: 0; background-color: Gray; line-height:0.3\">\n",
    "\n",
    "<p style=\"text-indent: 2vw; font-family: Verdana; font-size: 12px; font-style: normal; font-weight: normal; letter-spacing: 2px; color: #00008B; line-height:0.3\">\n",
    "<a href=\"#part9\">3.5 МСП без указания ОКВЭД</a></p>\n",
    "<hr style=\"height: 0.5px; border: 0; background-color: Gray; line-height:0.3\">"
   ]
  },
  {
   "cell_type": "markdown",
   "metadata": {},
   "source": [
    "<p id=\"part1\"></p>\n",
    "\n",
    "<p style=\"font-family: Verdana; font-size: 16px; font-style: normal; font-weight: bold; letter-spacing: 3px; color: #00008B\">0 ИМПОРТИРОВАНИЕ БИБЛИОТЕК</p>\n",
    "<hr style=\"height: 0.5px; border: 0; background-color: Gray\">"
   ]
  },
  {
   "cell_type": "code",
   "execution_count": null,
   "metadata": {
    "code_folding": []
   },
   "outputs": [],
   "source": [
    "import os\n",
    "import xml.etree.ElementTree as etree\n",
    "import pandas as pd\n",
    "from tqdm.notebook import tqdm"
   ]
  },
  {
   "cell_type": "markdown",
   "metadata": {},
   "source": [
    "<p style=\"font-family: Inter, sans-serif; font-size: 14px; color: rgba(0,0,0,.7)\">1. Библиотека <strong>os</strong> потребуется для работы с файлами и папками на жестком диске.</p>\n",
    "<p style=\"font-family: Inter, sans-serif; font-size: 14px; color: rgba(0,0,0,.7)\">2. Библиотека <strong>xml.etree.ElementTree</strong> потребуется для разбора \n",
    "(парсинга) каждого XML файла.</p>\n",
    "<p style=\"font-family: Inter, sans-serif; font-size: 14px; color: rgba(0,0,0,.7)\">3. Библиотека <strong>pandas</strong> потребуется для работы с данными в табличном представлении.</p>\n",
    "<p style=\"font-family: Inter, sans-serif; font-size: 14px; color: rgba(0,0,0,.7)\">4. Библиотека <strong>tqdm.notebook</strong> потребуется для создания прогрессора кода.</p>"
   ]
  },
  {
   "cell_type": "markdown",
   "metadata": {},
   "source": [
    "<p id=\"part2\"></p>\n",
    "<p style=\"font-family: Verdana; font-size: 16px; font-style: normal; font-weight: bold; letter-spacing: 3px; color: #00008B\">1 ОБРАБОТКА РЕЕСТРА МСП</p>\n",
    "<hr style=\"height: 0.5px; border: 0; background-color: Gray\">\n",
    "\n",
    "<p style=\"font-family: Inter, sans-serif; font-size: 14px; color: rgba(0,0,0,.7)\">Данные реестра субъектов малого и среднего предпринимательства содержат код региона, поэтому из них можно извлечь всю информацию конкретно по Приморскому краю.   \n",
    "В остальных наборах данных принадлежности к региону нет, поэтому выгрузить информацию только по Приморскому краю будет проблематично. Также перед обработкой данных их нужно скачать по сылке, указанной в шапке ноутбука.</p>"
   ]
  },
  {
   "cell_type": "markdown",
   "metadata": {},
   "source": [
    "<p style=\"font-family: Inter, sans-serif; font-size: 14px; color: rgba(0,0,0,.7)\">Перед обработкой самого реестра МСП создадим список файлов, непосредственно содержащих нужные нам данные с кодом региона 25. Для этого воспользуемся функцией <strong>create_files_25_region.</strong> Для дальнейшей работы результат функции запишем в переменную <strong>files_25_region.</strong></p>"
   ]
  },
  {
   "cell_type": "code",
   "execution_count": null,
   "metadata": {
    "code_folding": [
     0
    ]
   },
   "outputs": [],
   "source": [
    "def create_files_25_region(path, regoin_code):\n",
    "    \"\"\"\n",
    "        Функция, формирующая список файлов с кодом региона 25\n",
    "\n",
    "        Аргументы функции:\n",
    "            path - наименование папки, где лежат файлы   \n",
    "            regoin_code - код региона\n",
    "\n",
    "        Возвращаемое значение:\n",
    "            files_25 - список файлов с кодом региона 25\n",
    "    \n",
    "    \"\"\"\n",
    "    # Переменная, которая будет хранить список файлов с кодом региона 25\n",
    "    files_25 = []\n",
    "    # Переменная, которая хранит все названия файлов реестра по всем регионам\n",
    "    files = os.listdir(path)\n",
    "    \n",
    "    # На каждой итерации цикла берем название файла из переменной files\n",
    "    for file in tqdm(files):\n",
    "        # Открываем файл\n",
    "        tree = etree.parse(path + '\\\\' + file)\n",
    "        # Получаем доступ к тэгам\n",
    "        root = tree.getroot()\n",
    "        \n",
    "        # На каждой итерации цикла берем информацию по тегу документ\n",
    "        for document in root.findall('Документ'):\n",
    "            # Добираемся до тега СведМН в котором хранится код региона и сохраняем значение в переменную\n",
    "            region = document.find('СведМН').attrib\n",
    "            \n",
    "            # Проверяем условие, если в нашем файле хоть один раз встречается код региона то записываем название файла\n",
    "            # в переменную files_25\n",
    "            if region['КодРегион'] == str(regoin_code):\n",
    "                # Добавляем файл в список\n",
    "                files_25.append(file)\n",
    "                break\n",
    "                \n",
    "    return files_25"
   ]
  },
  {
   "cell_type": "code",
   "execution_count": null,
   "metadata": {
    "code_folding": []
   },
   "outputs": [],
   "source": [
    "files_25_region = create_files_25_region('Реестр МСП 2019', 25)"
   ]
  },
  {
   "cell_type": "markdown",
   "metadata": {},
   "source": [
    "<p style=\"font-family: Inter, sans-serif; font-size: 14px; color: rgba(0,0,0,.7)\">На следующем шаге сформируем реестр малого и среднего предпринимательства в формате CSV. Для этого воспользуемся функцией <strong>download_reestr_msp</strong>. Функция написанна с учетом обработки ошибок (используется конструкция <strong>try / except</strong>). Использование данной конструкции связанно с тем, что структура файлов зачастую отличается, где-то могут отсутствовать определенные атрибуты, где-то указан район но не указан город и тд., из-за чего код падает в ошибку. В качестве разделителя столбцов в итоговом файле используется <strong>q</strong> так как вероятность встретить данный символ в данных (например в названии и тд) очень низкая.</p>"
   ]
  },
  {
   "cell_type": "code",
   "execution_count": null,
   "metadata": {
    "code_folding": [
     0
    ]
   },
   "outputs": [],
   "source": [
    "def create_reestr_msp(name, path, files, regoin_code):\n",
    "    \"\"\"\n",
    "        Функция обработки данных реестра МСП\n",
    "\n",
    "        Аргументы функции:\n",
    "            name - название будущего файла с данными в формате CSV\n",
    "            path - наименование папки, где лежат файлы\n",
    "            files - список файлов, сформированных функцией create_files_25_region\n",
    "            regoin_code - код региона\n",
    "\n",
    "        Возвращаемое значение:\n",
    "            Функция сохраняет файл реестра МСП в формате CSV в текущей директории\n",
    "            Функция фозвращает кличество ИП и ЮЛ, а также общее количество МСП (данный функционал\n",
    "            необходим для проверки корректности формирования реестра. Значения должны совпадать\n",
    "            с данными реестра на сайте nalog.ru)\n",
    "    \n",
    "    \"\"\"\n",
    "    # Переменная (счетчик) с количеством юридических лиц\n",
    "    legal_entity = 0\n",
    "    # Переменная (счетчик) с количеством индивидуальных предпринимателей\n",
    "    entrepreneur = 0\n",
    "    \n",
    "    # Создаем файл с именем name и открываем для записи\n",
    "    with open(name, 'w', encoding='utf-8') as reestr_msp:\n",
    "        # На каждой итерации цикла берем название файла из переменной \n",
    "        # files (передается в качестве аргумента функции)\n",
    "        \n",
    "        for file in tqdm(files):\n",
    "            # Открываем файл\n",
    "            tree = etree.parse(path + '\\\\' + file)\n",
    "            # Получаем доступ к тэгам\n",
    "            root = tree.getroot()\n",
    "            \n",
    "            # Блок кода по обработке данных по юридическим лицам\n",
    "            # На каждой итерации цикла берем информацию по тегу Документ\n",
    "            for document in root.findall('Документ'):\n",
    "                # Проверяем условие на соответствие кода региона\n",
    "                if document.find('СведМН').attrib['КодРегион'] == str(regoin_code):\n",
    "                    # Если условие выполняется создаем переменные:\n",
    "                    # name_org - наименование организации\n",
    "                    # type_msp - тип МСП\n",
    "                    # category_msp - категория МСП\n",
    "                    # region_number - номер региона (нужен для проверки не попали ли случайно\n",
    "                    # данные по другим регионам)\n",
    "                    try:\n",
    "                        name_org = document.find('ОргВклМСП').attrib\n",
    "                        type_msp = document.attrib['ВидСубМСП']\n",
    "                        category_msp = document.attrib['КатСубМСП']\n",
    "                        region_number = document.find('СведМН').attrib\n",
    "                        \n",
    "                        # На каждой итерации цикла берем информацию по тегу СвОКВЭД\n",
    "                        # Данный тег находится внутри тега Документ, поэтому используем вложенный цикл\n",
    "                        for act in document.findall('СвОКВЭД'):\n",
    "                            # Если тэг присутствует в записе о данном субъекте МСП\n",
    "                            # то создаем переменную activity с информацией об основном виде \n",
    "                            # деятельности\n",
    "                            try:\n",
    "                                activity = act.find('СвОКВЭДОсн').attrib \n",
    "                            # Если такого тэга нет просто ничего не делаем.\n",
    "                            # Стоит отметить, что в таком случае компании, у которой не указан\n",
    "                            # ОКВЭД, запишется оквэд предидущей записи. После выгрузки реестра \n",
    "                            # эту проблему необходимо будет устранить. \n",
    "                            except:\n",
    "                                pass\n",
    "                            \n",
    "                        # На каждой итерации цикла берем информацию по тегу СведМН\n",
    "                        # Данный тег находится внутри тега Документ, поэтому используем вложенный цикл\n",
    "                        for reg in document.findall('СведМН'):\n",
    "                            # Если в тэге СведМН присутствует атрибут Город\n",
    "                            # то создаем переменные:\n",
    "                            # region - наименование региона\n",
    "                            # town - наименование города\n",
    "                            try:\n",
    "                                region = reg.find('Регион').attrib\n",
    "                                town = reg.find('Город').attrib\n",
    "                                # На данном этапе записываем все данные в файл создаваемого реестра:\n",
    "                                # name_org['НаимОрг'] - нааименование МСП\n",
    "                                # name_org['ИННЮЛ'] - ИНН МСП\n",
    "                                # region_number['КодРегион'] - код региона\n",
    "                                # type_msp - тип МСП\n",
    "                                # category_msp - категория МСП\n",
    "                                # region['Тип'], region['Наим'] - наименование регона\n",
    "                                # town['Тип'], town['Наим'] - наименование города\n",
    "                                # activity['КодОКВЭД'] - код ОКВЭД\n",
    "                                # activity['НаимОКВЭД'] - наименование вида деятельности\n",
    "                                reestr_msp.write(name_org['НаимОрг'] + 'q' + name_org['ИННЮЛ'] \n",
    "                                + 'q' + region_number['КодРегион'] + 'q' + f'Вид {type_msp}' \n",
    "                                + 'q' + f'Категория {category_msp}' + 'q' + region['Тип'] + ' ' \n",
    "                                + region['Наим'] + 'q' + ' ' + ' ' + ' ' + 'q'+ town['Тип']  + ' ' \n",
    "                                + town['Наим'] + 'q' + ' ' + ' ' + ' ' + 'q' + activity['КодОКВЭД']\n",
    "                                + 'q' + activity['НаимОКВЭД'] + '\\n')\n",
    "                                # Наращиваем значение переменной для дальнейшей проверки\n",
    "                                legal_entity += 1\n",
    "                            # Если в тэге СведМН отсутствует атрибут Город\n",
    "                            except:\n",
    "                                # то создаем переменную area - наименование района\n",
    "                                try:\n",
    "                                    area = reg.find('Район').attrib\n",
    "                                    # На данном этапе записываем все данные в файл создаваемого \n",
    "                                    # реестра:\n",
    "                                    # name_org['НаимОрг'] - нааименование МСП\n",
    "                                    # name_org['ИННЮЛ'] - ИНН МСП\n",
    "                                    # region_number['КодРегион'] - код региона\n",
    "                                    # type_msp - тип МСП\n",
    "                                    # category_msp - категория МСП\n",
    "                                    # region['Тип'], region['Наим'] - наименование регона\n",
    "                                    # area['Тип'], area['Наим'] - наименование района\n",
    "                                    # activity['КодОКВЭД'] - код ОКВЭД\n",
    "                                    # activity['НаимОКВЭД'] - наименование вида деятельности\n",
    "                                    reestr_msp.write(name_org['НаимОрг'] + 'q' + name_org['ИННЮЛ'] \n",
    "                                    + 'q' + region_number['КодРегион'] + 'q' + f'Вид {type_msp}' \n",
    "                                    + 'q' + f'Категория {category_msp}' + 'q' + region['Тип'] + ' ' \n",
    "                                    + region['Наим'] + 'q' + area['Тип'] + ' ' + area['Наим'] + 'q' \n",
    "                                    + ' ' + ' ' + ' ' + 'q' + ' ' + ' ' + ' ' + 'q' \n",
    "                                    + activity['КодОКВЭД'] + 'q' + activity['НаимОКВЭД'] + '\\n')\n",
    "                                    # Наращиваем значение переменной для дальнейшей проверки\n",
    "                                    legal_entity += 1\n",
    "                                # Если в тэге СведМН отсутствует атрибут Район\n",
    "                                # Создаем переменную human_settlement - наименование населенного пункта\n",
    "                                except:\n",
    "                                    human_settlement = reg.find('НаселПункт').attrib\n",
    "                                    # На данном этапе записываем все данные в файл создаваемого \n",
    "                                    # реестра:\n",
    "                                    # name_org['НаимОрг'] - нааименование МСП\n",
    "                                    # name_org['ИННЮЛ'] - ИНН МСП\n",
    "                                    # region_number['КодРегион'] - код региона\n",
    "                                    # type_msp - тип МСП\n",
    "                                    # category_msp - категория МСП\n",
    "                                    # region['Тип'], region['Наим'] - наименование регона\n",
    "                                    # human_settlement['Тип'], human_settlement['Наим'] - наименование\n",
    "                                    # населенного пункта\n",
    "                                    # activity['КодОКВЭД'] - код ОКВЭД\n",
    "                                    # activity['НаимОКВЭД'] - наименование вида деятельности\n",
    "                                    reestr_msp.write(name_org['НаимОрг'] + 'q' + name_org['ИННЮЛ'] \n",
    "                                    + 'q' + region_number['КодРегион'] + 'q' + f'Вид {type_msp}' \n",
    "                                    + 'q' + f'Категория {category_msp}' + 'q' + region['Тип'] \n",
    "                                    + ' ' + region['Наим'] + 'q' + ' ' + ' ' + ' ' + 'q' + ' ' \n",
    "                                    + ' ' + ' ' + 'q' + human_settlement['Тип']  + ' ' \n",
    "                                    + human_settlement['Наим'] + 'q' + activity['КодОКВЭД'] \n",
    "                                    + 'q' + activity['НаимОКВЭД'] + '\\n')\n",
    "                                    # Наращиваем значение переменной для дальнейшей проверки\n",
    "                                    legal_entity += 1\n",
    "                    # Если ошибок на итерации не найдено то ничего не делаем.        \n",
    "                    except:\n",
    "                        pass\n",
    "                    \n",
    "            # Блок кода по обработке данных по индивидуальным предпринимателям\n",
    "            # На каждой итерации цикла берем информацию по тегу Документ\n",
    "            for document in root.findall('Документ'):\n",
    "                # Проверяем условие на соответствие кода региона\n",
    "                if document.find('СведМН').attrib['КодРегион'] == str(regoin_code):\n",
    "                    try:\n",
    "                        # Если условие выполняется создаем переменные:\n",
    "                        # inn_ip - ИНН ИП\n",
    "                        # ip_type_msp - тип МСП\n",
    "                        # ip_category_msp - категория МСП\n",
    "                        # region_number_ip - номер региона (нужен для проверки не попали ли случайно\n",
    "                        # данные по другим регионам)\n",
    "                        inn_ip = document.find('ИПВклМСП').attrib\n",
    "                        ip_type_msp = document.attrib['ВидСубМСП']\n",
    "                        ip_category_msp = document.attrib['КатСубМСП']\n",
    "                        region_number_ip = document.find('СведМН').attrib\n",
    "                        \n",
    "                        # На каждой итерации цикла берем информацию по тегу СвОКВЭД\n",
    "                        # Данный тег находится внутри тега Документ, поэтому используем вложенный цикл\n",
    "                        for act in document.findall('СвОКВЭД'):\n",
    "                            # Если тэг присутствует в записе о данном субъекте МСП\n",
    "                            # то создаем переменную activity с информацией об основном виде \n",
    "                            # деятельности                         \n",
    "                            try:\n",
    "                                activity = act.find('СвОКВЭДОсн').attrib\n",
    "                            # Если такого тэга нет просто ничего не делаем.\n",
    "                            # Стоит отметить, что в таком случае компании, у которой не указан\n",
    "                            # ОКВЭД, запишется оквэд предидущей записи. После выгрузки реестра\n",
    "                            # эту проблему необходимо будет устранить.\n",
    "                            except:\n",
    "                                pass\n",
    "                            \n",
    "                        # На каждой итерации цикла берем информацию по тегу ИПВклМСП\n",
    "                        # Данный тег находится внутри тега Документ, поэтому используем вложенный цикл\n",
    "                        for name in document.findall('ИПВклМСП'):\n",
    "                                # Формируем ФИО ИП\n",
    "                                ip_name = name.find('ФИОИП').attrib\n",
    "                                \n",
    "                        # На каждой итерации цикла берем информацию по тегу СведМН\n",
    "                        # Данный тег находится внутри тега Документ, поэтому используем вложенный цикл\n",
    "                        for reg in document.findall('СведМН'):\n",
    "                            # Если в тэге СведМН присутствует атрибут Город\n",
    "                            # то создаем переменные:\n",
    "                            # region - наименование региона\n",
    "                            # town - наименование города\n",
    "                            try:\n",
    "                                region = reg.find('Регион').attrib\n",
    "                                town = reg.find('Город').attrib\n",
    "                                # На данном этапе записываем все данные в файл создаваемого реестра:\n",
    "                                # ip_name['Фамилия'] - фамилия ИП\n",
    "                                # ip_name['Имя'] - имя ИП\n",
    "                                # inn_ip['ИННФЛ'] - ИНН ИП\n",
    "                                # region_number_ip['КодРегион'] - код региона\n",
    "                                # ip_type_msp - тип МСП\n",
    "                                # ip_category_msp - категория МСП\n",
    "                                # region['Тип'], region['Наим'] - наименование регона\n",
    "                                # town['Тип'], town['Наим'] - наименование города\n",
    "                                # activity['КодОКВЭД'] - код ОКВЭД\n",
    "                                # activity['НаимОКВЭД'] - наименование вида деятельности\n",
    "                                reestr_msp.write(ip_name['Фамилия'] + ' ' + ip_name['Имя'] + 'q' \n",
    "                                + inn_ip['ИННФЛ'] + 'q' + region_number_ip['КодРегион'] + 'q' \n",
    "                                + f'Вид {ip_type_msp}' + 'q' + f'Категория {ip_category_msp}' \n",
    "                                + 'q' + region['Тип'] + ' ' + region['Наим'] + 'q' + ' ' + ' ' \n",
    "                                + ' ' + 'q' + town['Тип']  + ' ' + town['Наим'] + 'q' + ' ' + ' ' \n",
    "                                + ' ' + 'q' + activity['КодОКВЭД'] + 'q' + activity['НаимОКВЭД'] \n",
    "                                + '\\n')\n",
    "                                # Наращиваем значение переменной для дальнейшей проверки\n",
    "                                entrepreneur += 1\n",
    "                            # Если в тэге СведМН отсутствует атрибут Город\n",
    "                            except:\n",
    "                                # то создаем переменную area - наименование района\n",
    "                                try:\n",
    "                                    area = reg.find('Район').attrib\n",
    "                                    # На данном этапе записываем все данные в файл создаваемого \n",
    "                                    # реестра:\n",
    "                                    # ip_name['Фамилия'] - фамилия ИП\n",
    "                                    # ip_name['Имя'] - имя ИП\n",
    "                                    # inn_ip['ИННФЛ'] - ИНН ИП\n",
    "                                    # region_number_ip['КодРегион'] - код региона\n",
    "                                    # ip_type_msp - тип МСП\n",
    "                                    # ip_category_msp - категория МСП\n",
    "                                    # region['Тип'], region['Наим'] - наименование регона\n",
    "                                    # area['Тип'], area['Наим'] - наименование района\n",
    "                                    # activity['КодОКВЭД'] - код ОКВЭД\n",
    "                                    # activity['НаимОКВЭД'] - наименование вида деятельности\n",
    "                                    reestr_msp.write(ip_name['Фамилия'] + ' ' + ip_name['Имя']\n",
    "                                    + 'q'+ inn_ip['ИННФЛ'] + 'q' + region_number_ip['КодРегион']\n",
    "                                    + 'q' + f'Вид {ip_type_msp}' + 'q' + f'Категория {ip_category_msp}' \n",
    "                                    + 'q' + region['Тип'] + ' ' + region['Наим'] + 'q' + area['Тип']  \n",
    "                                    + ' ' + area['Наим'] + 'q'  + ' ' + ' ' + ' ' + 'q' + ' ' + ' ' \n",
    "                                    + ' ' + 'q' + activity['КодОКВЭД'] + 'q' + activity['НаимОКВЭД'] \n",
    "                                    + '\\n')\n",
    "                                    # Наращиваем значение переменной для дальнейшей проверки\n",
    "                                    entrepreneur += 1\n",
    "                                # Если в тэге СведМН отсутствует атрибут Район\n",
    "                                # то создаем переменную human_settlement - наименование \n",
    "                                # населенного пункта   \n",
    "                                except:\n",
    "                                    human_settlement = reg.find('НаселПункт').attrib\n",
    "                                    # На данном этапе записываем все данные в файл создаваемого \n",
    "                                    # реестра:\n",
    "                                    # ip_name['Фамилия'] - фамилия ИП\n",
    "                                    # ip_name['Имя'] - имя ИП\n",
    "                                    # inn_ip['ИННФЛ'] - ИНН ИП\n",
    "                                    # region_number_ip['КодРегион'] - код региона\n",
    "                                    # ip_type_msp - тип МСП\n",
    "                                    # ip_category_msp - категория МСП\n",
    "                                    # region['Тип'], region['Наим'] - наименование регона\n",
    "                                    # human_settlement['Тип'], human_settlement['Наим'] - наименование \n",
    "                                    # населенного пункта\n",
    "                                    # activity['КодОКВЭД'] - код ОКВЭД\n",
    "                                    # activity['НаимОКВЭД'] - наименование вида деятельности\n",
    "                                    reestr_msp.write(ip_name['Фамилия'] + ' ' + ip_name['Имя'] \n",
    "                                    + 'q'+ inn_ip['ИННФЛ'] + 'q' + region_number_ip['КодРегион'] \n",
    "                                    + 'q' + f'Вид {ip_type_msp}' + 'q' + f'Категория {ip_category_msp}' \n",
    "                                    + 'q' + region['Тип'] + ' ' + region['Наим'] + 'q' + ' ' + ' ' \n",
    "                                    + ' ' + 'q'+ ' ' + ' ' + ' ' + 'q' + human_settlement['Тип'] + ' ' \n",
    "                                    + human_settlement['Наим'] + 'q' + activity['КодОКВЭД'] + 'q' \n",
    "                                    + activity['НаимОКВЭД'] + '\\n')\n",
    "                                    # Наращиваем значение переменной для дальнейшей проверки\n",
    "                                    entrepreneur += 1\n",
    "                    # Если ошибок на итерации не найдено то ничего не делаем \n",
    "                    except:\n",
    "                        pass\n",
    "    # В принте выводим проверку по количеству МСП                \n",
    "    print(f'Юридические лица: {legal_entity}\\n'\n",
    "          f'Индивидуальные предприниматели: {entrepreneur}\\n'\n",
    "          f'Всего МСП: {legal_entity + entrepreneur}')"
   ]
  },
  {
   "cell_type": "markdown",
   "metadata": {},
   "source": [
    "<p style=\"font-family: Inter, sans-serif; font-size: 14px; color: rgba(0,0,0,.7)\">Всего в 2019 году в реестр субъектов малого и среднего предпринимательства входит 84 335 предпринимателей, из них 38 366 юридических лиц и 45 969 индивидуальных предпринимателей. После исполнения функции реестр будет сформирован под названием <strong>reestr_msp_2019.csv</strong> и сохранится в директроии с кодом.</p>"
   ]
  },
  {
   "cell_type": "code",
   "execution_count": null,
   "metadata": {
    "code_folding": []
   },
   "outputs": [],
   "source": [
    "create_reestr_msp('reestr_msp_2019.csv', 'Реестр МСП 2019', files_25_region, 25)"
   ]
  },
  {
   "cell_type": "markdown",
   "metadata": {},
   "source": [
    "<p id=\"part3\"></p>\n",
    "\n",
    "<p style=\"font-family: Verdana; font-size: 16px; font-style: normal; font-weight: bold; letter-spacing: 3px; color: #00008B\">2 СОЗДАНИЕ СПИСКА ИНН</p>\n",
    "<hr style=\"height: 0.5px; border: 0; background-color: Gray\">\n",
    "\n",
    "<p style=\"font-family: Inter, sans-serif; font-size: 14px; color: rgba(0,0,0,.7)\">Список ИНН нужен для того, чтобы из последующих данных брать только те компании, которые есть в нашем реестре, так как в исходных XML нет атрибутов, по которым можно идентифицировать принадлежность бизнеса к субъекту малого и среднего предпринимательства Приморского края.</p>"
   ]
  },
  {
   "cell_type": "code",
   "execution_count": null,
   "metadata": {
    "code_folding": [
     0
    ]
   },
   "outputs": [],
   "source": [
    "# Формируем названия колонок\n",
    "names = ['Наимнование МСП', 'ИНН', 'Код региона', 'Вид', 'Категория','Регион', \n",
    "         'Район', 'Город', 'Населенный пункт', 'Код ОКВЭД', 'Вид деятельности']\n",
    "\n",
    "# Формируем датафрейм с реестром МСП\n",
    "df = pd.read_csv('reestr_msp_2019.csv', \n",
    "                  sep='[q]', \n",
    "                  encoding='utf-8', \n",
    "                  names=names, \n",
    "                  engine='python').reset_index()\n",
    "\n",
    "# Выводим первые 5 строк датафрейма\n",
    "df.head()"
   ]
  },
  {
   "cell_type": "markdown",
   "metadata": {},
   "source": [
    "<p style=\"font-family: Inter, sans-serif; font-size: 14px; color: rgba(0,0,0,.7)\">Проверим, все ли наши данные сохранились в датафрейм. Длина датафрейма должна быть равна количеству субъектов малого и среденего предпринимательства в реестре.</p>"
   ]
  },
  {
   "cell_type": "code",
   "execution_count": null,
   "metadata": {
    "code_folding": []
   },
   "outputs": [],
   "source": [
    "if len(df) == 84335:\n",
    "    print('Данные подгрузились в полном объеме')\n",
    "else:\n",
    "    print('Данные подгрузились не в полном объеме')"
   ]
  },
  {
   "cell_type": "markdown",
   "metadata": {},
   "source": [
    "<p style=\"font-family: Inter, sans-serif; font-size: 14px; color: rgba(0,0,0,.7)\">Сформируем словарь с ИНН. Далее будем провереть вхождение в данный словарь ИНН из других наборов данных, тем самым исключая попадание субъектов малого и среднего предпринимательства не относящихся к Приморскому краю. Использования словаря а не списка обусловлено тем, что в словаре поиск осуществляется в разы быстрее чем в списке.</p>\n",
    "\n",
    "`df['ИНН'].tolist() - список ИНН МСП`   \n",
    "`df['index'].tolist() - список индексов`"
   ]
  },
  {
   "cell_type": "code",
   "execution_count": null,
   "metadata": {},
   "outputs": [],
   "source": [
    "inn_dict = dict(zip(df['ИНН'].tolist(), df['index'].tolist()))"
   ]
  },
  {
   "cell_type": "code",
   "execution_count": null,
   "metadata": {},
   "outputs": [],
   "source": [
    "len(inn_dict)"
   ]
  },
  {
   "cell_type": "markdown",
   "metadata": {},
   "source": [
    "<p id=\"part4\"></p>\n",
    "\n",
    "<p style=\"font-family: Verdana; font-size: 16px; font-style: normal; font-weight: bold; letter-spacing: 3px; color: #00008B\">3 ОБРАБОТКА ИНЫХ ДАННЫХ</p>\n",
    "<hr style=\"height: 0.5px; border: 0; background-color: Gray\">\n",
    "\n",
    "<p style=\"font-family: Inter, sans-serif; font-size: 14px; color: rgba(0,0,0,.7)\">Данный блок содержит скрипты по обработке иных данных, содержащих информацию о развитии малого и среднего предпринимательства в Приморском крае, размещенных в открытом доступе на сайте Федеральной налоговой службы Российской Федерации.</p>"
   ]
  },
  {
   "cell_type": "markdown",
   "metadata": {},
   "source": [
    "<p id=\"part5\"></p>\n",
    "\n",
    "<p style=\"font-family: Verdana; font-size: 14px; font-style: normal; letter-spacing: 3px; color: #00008B\">3.1 Доход и расход</p>"
   ]
  },
  {
   "cell_type": "markdown",
   "metadata": {},
   "source": [
    "<p style=\"font-family: Inter, sans-serif; font-size: 14px; color: rgba(0,0,0,.7)\">Набор данных содержит информацию о доходе (выручке) и расходе у субъекта малого и среднего предпринимательства по данным бухгалтерской отчетности, предоставленной в Федеральную налоговую службу Российской Федерации.</p>"
   ]
  },
  {
   "cell_type": "code",
   "execution_count": null,
   "metadata": {
    "code_folding": [
     0
    ]
   },
   "outputs": [],
   "source": [
    "def create_msn_revenue(name, path, inn):\n",
    "    \"\"\"\n",
    "        Функция обработки данных о доходах и расходах у субъектов МСП по данным бухгалтерской отчетности\n",
    "\n",
    "        Аргументы функции:\n",
    "            name - название будущего файла с данными в формате CSV\n",
    "            path - наименование папки, где лежат файлы\n",
    "            inn - список (словарь) ИНН для проверки\n",
    "\n",
    "        Возвращаемое значение:\n",
    "            Функция сохраняет файл с доходом и расходом в формате CSV в текущей дирректории\n",
    "\n",
    "    \"\"\"\n",
    "    # Переменная, которая хранит название файлов, содержащих\n",
    "    # доход и раход субъекта МСП\n",
    "    files = os.listdir(path) \n",
    "    \n",
    "    # Создаем файл с именем name и открываем для записи\n",
    "    with open(name, 'w', encoding='utf-8') as company_revenue:\n",
    "        \n",
    "        # На каждой итерации цикла берем название файла из переменной files\n",
    "        for file in tqdm(files):\n",
    "            # Открываем файл\n",
    "            tree = etree.parse(path + '\\\\' + file)\n",
    "            # Получаем доступ к тэгам\n",
    "            root = tree.getroot()\n",
    "            \n",
    "            # На каждой итерации цикла берем информацию по тегу Документ\n",
    "            for document in root.findall('Документ'):\n",
    "                # По атрибуту СведНП и СведДохРасх создаем переменные:\n",
    "                # name - содержит наименование МСП\n",
    "                # revenue - содержит сведения о доходе и расходе МСП\n",
    "                name = document.find('СведНП').attrib\n",
    "                revenue =  document.find('СведДохРасх').attrib\n",
    "                # Проверяем условие, если ИНН МСП из текущего набора данных\n",
    "                # есть в словере из ИНН (взятых из ранее сформированного реестра), \n",
    "                # то тогда информацию о доходе и расходе запишем в файл\n",
    "                if int(name['ИННЮЛ']) in inn.keys():\n",
    "                    # Записываем все данные в файл создаваемого документа:\n",
    "                    # name['НаимОрг'] - наименование МСП\n",
    "                    # name['ИННЮЛ'] - ИНН МСП\n",
    "                    # revenue['СумДоход'] - Доход МСП\n",
    "                    # revenue['СумРасход'] - Расход МСП\n",
    "                    company_revenue.write(name['НаимОрг'] + 'q ' + name['ИННЮЛ'] \n",
    "                    + 'q ' + revenue['СумДоход'] + 'q ' + revenue['СумРасход'] + '\\n')"
   ]
  },
  {
   "cell_type": "markdown",
   "metadata": {},
   "source": [
    "<p style=\"font-family: Inter, sans-serif; font-size: 14px; color: rgba(0,0,0,.7)\">После исполнения функции файл будет сформирован под названием <strong>company_revenue_2019.csv</strong> и сохранится в директроии с кодом.</p>"
   ]
  },
  {
   "cell_type": "code",
   "execution_count": null,
   "metadata": {},
   "outputs": [],
   "source": [
    "create_msn_revenue('company_revenue_2019.csv', 'Оборот расход 2019', inn_dict)"
   ]
  },
  {
   "cell_type": "markdown",
   "metadata": {},
   "source": [
    "<p id=\"part6\"></p>\n",
    "\n",
    "<p style=\"font-family: Verdana; font-size: 14px; font-style: normal; letter-spacing: 3px; color: #00008B\">3.2 Налоговые режимы</p>"
   ]
  },
  {
   "cell_type": "markdown",
   "metadata": {},
   "source": [
    "<p style=\"font-family: Inter, sans-serif; font-size: 14px; color: rgba(0,0,0,.7)\">Набор данных содержит информацию о применяемых специальных налоговых режимах субъектами малого и среднего предпринимательства по данным налоговой отчетности, предоставленной в Федеральную налоговую службу Российской Федерации.</p>"
   ]
  },
  {
   "cell_type": "code",
   "execution_count": null,
   "metadata": {
    "code_folding": [
     0
    ]
   },
   "outputs": [],
   "source": [
    "def create_tax_regime(name, path, inn):\n",
    "    \"\"\"\n",
    "        Функция обработки данных о системах налогообложения, которые применяют субъекты МСП.\n",
    "\n",
    "        Аргументы функции:\n",
    "            name - название будущего файла с данными в формате CSV\n",
    "            path - наименование папки, где лежат файлы\n",
    "            inn - список (словарь) ИНН для проверки\n",
    "\n",
    "        Возвращаемое значение:\n",
    "            Функция сохраняет файл с налоговыми режимами в формате CSV в текущей дирректории\n",
    "    \n",
    "    \"\"\"\n",
    "    # Переменная, которая хранит название файлов, содержащих\n",
    "    # информацию о применяемом спецрежиме\n",
    "    files = os.listdir(path) \n",
    "    \n",
    "    # Создаем файл с именем name и открываем для записи\n",
    "    with open(name, 'w', encoding='utf-8') as company_tax_regime:\n",
    "        \n",
    "        # На каждой итерации цикла берем название файла из переменной files\n",
    "        for file in tqdm(files):\n",
    "            # Открываем файл\n",
    "            tree = etree.parse(path + '\\\\' + file)\n",
    "            # Получаем доступ к тэгам\n",
    "            root = tree.getroot()\n",
    "            \n",
    "            # На каждой итерации цикла берем информацию по тегу Документ\n",
    "            for document in root.findall('Документ'):\n",
    "                # По атрибуту СведНП и СведСНР создаем переменные:\n",
    "                # name - содержит наименование МСП\n",
    "                # tax_regime - содержит сведения о спецрежиме\n",
    "                name = document.find('СведНП').attrib\n",
    "                tax_regime =  document.find('СведСНР').attrib\n",
    "                # Проверяем условие, если ИНН МСП из текущего набора данных\n",
    "                # есть в словере из ИНН (взятых из ранее сформированного реестра), \n",
    "                # то тогда информацию о налоговых режимах запишем в файл\n",
    "                if int(name['ИННЮЛ']) in inn.keys():\n",
    "                    # Записываем все данные в файл создаваемого документа:\n",
    "                    # name['НаимОрг'] - наименование МСП\n",
    "                    # name['ИННЮЛ'] - ИНН МСП\n",
    "                    # tax_regime['ПризнЕСХН'] - признак применения ЕСХН (0-нет, 1-да)\n",
    "                    # tax_regime['ПризнУСН'] - признак применения УСН (0-нет, 1-да)\n",
    "                    # tax_regime['ПризнЕНВД'] - признак применения ЕНВД (0-нет, 1-да)\n",
    "                    # tax_regime['ПризнСРП'] - признак применения СРП (0-нет, 1-да)\n",
    "                    company_tax_regime.write(name['НаимОрг'] + 'q ' + name['ИННЮЛ'] \n",
    "                    + 'q ' + tax_regime['ПризнЕСХН'] + 'q ' + tax_regime['ПризнУСН'] \n",
    "                    + 'q ' + tax_regime['ПризнЕНВД'] + 'q ' + tax_regime['ПризнСРП'] + '\\n')"
   ]
  },
  {
   "cell_type": "markdown",
   "metadata": {},
   "source": [
    "<p style=\"font-family: Inter, sans-serif; font-size: 14px; color: rgba(0,0,0,.7)\">После исполнения функции файл будет сформирован под названием <strong>company_tax_regime_2019.csv</strong> и сохранится в директроии с кодом.</p>"
   ]
  },
  {
   "cell_type": "code",
   "execution_count": null,
   "metadata": {},
   "outputs": [],
   "source": [
    "create_tax_regime('company_tax_regime_2019.csv', 'Режимы 2019', inn_dict)"
   ]
  },
  {
   "cell_type": "markdown",
   "metadata": {},
   "source": [
    "<p id=\"part7\"></p>\n",
    "\n",
    "<p style=\"font-family: Verdana; font-size: 14px; font-style: normal; letter-spacing: 3px; color: #00008B\">3.3 Уплаченые налоги</p>"
   ]
  },
  {
   "cell_type": "markdown",
   "metadata": {},
   "source": [
    "<p style=\"font-family: Inter, sans-serif; font-size: 14px; color: rgba(0,0,0,.7)\">Набор данных содержит информацию об уплаченных суммах налога субъектами малого и среднего предпринимательства по данным налоговой отчетности, предоставленной в Федеральную налоговую службу Российской Федерации.</p>"
   ]
  },
  {
   "cell_type": "code",
   "execution_count": null,
   "metadata": {
    "code_folding": [
     0
    ]
   },
   "outputs": [],
   "source": [
    "def create_tax_pay(name, path, inn):\n",
    "    \"\"\"\n",
    "        Функция обработки данных о суммах уплаченых налогов.\n",
    "\n",
    "        Аргументы функции:\n",
    "            name - название будущего файла с данными в формате CSV\n",
    "            path - наименование папки, где лежат файлы\n",
    "            inn - список (словарь) ИНН для проверки\n",
    "\n",
    "        Возвращаемое значение:\n",
    "            Функция сохраняет файл с суммами уплаченных налогов в формате CSV в текущей дирректории\n",
    "\n",
    "    \"\"\"\n",
    "    # Переменная, которая хранит название файлов, содержащих\n",
    "    # информацию о применяемом спецрежиме\n",
    "    files = os.listdir(path) \n",
    "    \n",
    "    # Создаем файл с именем name и открываем для записи\n",
    "    with open('msp_tax_2019.csv', 'w', encoding='utf-8') as msp_tax:\n",
    "        \n",
    "        # На каждой итерации цикла берем название файла из переменной files\n",
    "        for file in tqdm(files):\n",
    "            # Открываем файл\n",
    "            tree = etree.parse(path + '\\\\' + file)\n",
    "            # Получаем доступ к тэгам\n",
    "            root = tree.getroot()\n",
    "            \n",
    "            # На каждой итерации цикла берем информацию по тегу Документ\n",
    "            for document in root.findall('Документ'):\n",
    "                # По атрибуту СведНП создаем переменную name, которая содержит наименование МСП\n",
    "                name = document.find('СведНП').attrib\n",
    "                \n",
    "                # На каждой итерации цикла берем информацию по тегу СвУплСумНал\n",
    "                # Данный тег находится внутри тега Документ, поэтому используем вложенный цикл\n",
    "                for tax in document.findall('СвУплСумНал'):\n",
    "                    # Проверяем условие, если ИНН МСП из текущего набора данных\n",
    "                    # есть в словере из ИНН (взятых из ранее сформированного реестра), \n",
    "                    # то тогда информацию об уплаченных налогах запишем в файл\n",
    "                    if int(name['ИННЮЛ']) in inn.keys():\n",
    "                        # Записываем все данные в файл создаваемого документа:\n",
    "                        # name['НаимОрг'] - наименование МСП\n",
    "                        # name['ИННЮЛ'] - ИНН МСП\n",
    "                        # tax.attrib['НаимНалог'] - наименование налога \n",
    "                        # tax.attrib['СумУплНал'] - сумма уплаченного налога\n",
    "                        msp_tax.write(name['НаимОрг'] + 'q ' + name['ИННЮЛ'] \n",
    "                        + 'q ' + tax.attrib['НаимНалог'] + 'q ' + tax.attrib['СумУплНал'] + '\\n')"
   ]
  },
  {
   "cell_type": "markdown",
   "metadata": {},
   "source": [
    "<p style=\"font-family: Inter, sans-serif; font-size: 14px; color: rgba(0,0,0,.7)\">После исполнения функции файл будет сформирован под названием <strong>msp_tax_2019.csv</strong> и сохранится в директроии с кодом.</p>"
   ]
  },
  {
   "cell_type": "code",
   "execution_count": null,
   "metadata": {},
   "outputs": [],
   "source": [
    "create_tax_pay('msp_tax_2019.csv', 'Уплаченные налоги 2019', inn_dict)"
   ]
  },
  {
   "cell_type": "markdown",
   "metadata": {},
   "source": [
    "<p id=\"part8\"></p>\n",
    "\n",
    "<p style=\"font-family: Verdana; font-size: 14px; font-style: normal; letter-spacing: 3px; color: #00008B\">3.4 Недоимка</p>"
   ]
  },
  {
   "cell_type": "markdown",
   "metadata": {},
   "source": [
    "<p style=\"font-family: Inter, sans-serif; font-size: 14px; color: rgba(0,0,0,.7)\">Набор данных содержит информацию о не уплаченных суммах налога субъектами малого и среднего предпринимательства по данным налоговой отчетности, предоставленной в Федеральную налоговую службу Российской Федерации.</p>"
   ]
  },
  {
   "cell_type": "code",
   "execution_count": null,
   "metadata": {
    "code_folding": [
     0
    ]
   },
   "outputs": [],
   "source": [
    "def create_arrears(name, path, inn):\n",
    "    \"\"\"\n",
    "        Функция обработки данных о суммах неуплаченых налогов.\n",
    "\n",
    "        Аргументы функции:\n",
    "            name - название будущего файла с данными в формате CSV\n",
    "            path - наименование папки, где лежат файлы\n",
    "            inn - список (словарь) ИНН для проверки\n",
    "\n",
    "        Возвращаемое значение:\n",
    "            Функция сохраняет файл с суммами неуплаченных налогов в формате CSV в текущей дирректории\n",
    "    \n",
    "    \"\"\"\n",
    "    # Переменная, которая хранит название файлов, содержащих\n",
    "    # информацию о применяемом спецрежиме\n",
    "    files = os.listdir(path)\n",
    "    \n",
    "    # Создаем файл с именем name и открываем для записи\n",
    "    with open(name, 'w', encoding='utf-8') as msp_arrears:\n",
    "        \n",
    "        # На каждой итерации цикла берем название файла из переменной files\n",
    "        for file in tqdm(files):\n",
    "            # Открываем файл\n",
    "            tree = etree.parse(path + '\\\\' + file)\n",
    "            # Получаем доступ к тэгам\n",
    "            root = tree.getroot()\n",
    "            \n",
    "            # На каждой итерации цикла берем информацию по тегу Документ\n",
    "            for document in root.findall('Документ'):\n",
    "                # По атрибуту СведНП создаем переменную name, которая содержит наименование МСП\n",
    "                name = document.find('СведНП').attrib\n",
    "                \n",
    "                # На каждой итерации цикла берем информацию по тегу СведНедоим\n",
    "                # Данный тег находится внутри тега Документ, поэтому используем вложенный цикл\n",
    "                for tax in document.findall('СведНедоим'):\n",
    "                    # Проверяем условие, если ИНН МСП из текущего набора данных\n",
    "                    # есть в словере из ИНН (взятых из ранее сформированного реестра), \n",
    "                    # то тогда информацию о неуплаченных налогах запишем в файл\n",
    "                    if int(name['ИННЮЛ']) in inn.keys():\n",
    "                        # Записываем все данные в файл создаваемого документа:\n",
    "                        # name['НаимОрг'] - наименование МСП\n",
    "                        # name['ИННЮЛ'] - ИНН МСП\n",
    "                        # tax.attrib['НаимНалог'] - наименование налога\n",
    "                        # tax.attrib['СумНедНалог'] - сумма не уплаченного налога\n",
    "                        # tax.attrib['СумПени'] - сумма пени\n",
    "                        # tax.attrib['СумШтраф'] - сумма штрафа\n",
    "                        # tax.attrib['ОбщСумНедоим'] - общая сумма не уплаченного налога\n",
    "                        msp_arrears.write(name['НаимОрг'] + 'q ' + name['ИННЮЛ'] + 'q ' \n",
    "                        + tax.attrib['НаимНалог'] + 'q ' + tax.attrib['СумНедНалог'] + 'q ' \n",
    "                        + tax.attrib['СумПени']  + 'q ' + tax.attrib['СумШтраф'] + 'q ' \n",
    "                        + tax.attrib['ОбщСумНедоим'] + '\\n')"
   ]
  },
  {
   "cell_type": "markdown",
   "metadata": {},
   "source": [
    "<p style=\"font-family: Inter, sans-serif; font-size: 14px; color: rgba(0,0,0,.7)\">После исполнения функции файл будет сформирован под названием <strong>msp_arrears_2019.csv</strong> и сохранится в директроии с кодом.</p>"
   ]
  },
  {
   "cell_type": "code",
   "execution_count": null,
   "metadata": {},
   "outputs": [],
   "source": [
    "create_arrears('msp_arrears_2019.csv', 'Недоимка 2019', inn_dict)"
   ]
  },
  {
   "cell_type": "markdown",
   "metadata": {},
   "source": [
    "<p id=\"part9\"></p>\n",
    "\n",
    "<p style=\"font-family: Verdana; font-size: 14px; font-style: normal; letter-spacing: 3px; color: #00008B\">3.5 МСП без указания ОКВЭД</p>"
   ]
  },
  {
   "cell_type": "markdown",
   "metadata": {},
   "source": [
    "<p style=\"font-family: Inter, sans-serif; font-size: 14px; color: rgba(0,0,0,.7)\">Набор данных содержит информацию о субъектах малого и среднего предпринимательства Приморского края, находящихся в едином реестре субъектов малого и среднего предпринимательства и у которых не указан основной вид экономической деятельности. Данная информация нужна для корректировки сформированного реестра малого и среднего предпринимательства в части указания по конкретным субъектам признака об отсутствии указанного основного вида экономического деятельности.</p>"
   ]
  },
  {
   "cell_type": "code",
   "execution_count": null,
   "metadata": {
    "code_folding": [
     0
    ]
   },
   "outputs": [],
   "source": [
    "def create_activity_list(name, path, files, regoin_code):\n",
    "    \"\"\"\n",
    "        Функция обработки данных реестра МСП с указание признака отсутствия ОКВЭД\n",
    "\n",
    "        Аргументы функции:\n",
    "            name - название будущего файла с данными в формате CSV\n",
    "            path - наименование папки, где лежат файлы\n",
    "            files - список файлов, сформированных функцией create_files_25_region\n",
    "            regoin_code - код региона\n",
    "\n",
    "        Возвращаемое значение:\n",
    "            Функция сохраняет файл с указанием субъектов МСП без вида \n",
    "            деятельности в формате CSV в текущей дирректории\n",
    "    \n",
    "    \"\"\"\n",
    "\n",
    "    # Создаем файл с именем name и открываем для записи\n",
    "    with open(name, 'w', encoding='utf-8') as activity_list:\n",
    "    \n",
    "        # На каждой итерации цикла берем название файла из переменной files\n",
    "        for file in tqdm(files):\n",
    "            # Открываем файл\n",
    "            tree = etree.parse(path + '\\\\' + file)\n",
    "            # Получаем доступ к тэгам\n",
    "            root = tree.getroot()\n",
    "            \n",
    "            # Блок кода по обработке данных по юридическим лицам\n",
    "            # На каждой итерации цикла берем информацию по тегу Документ\n",
    "            for document in root.findall('Документ'):\n",
    "                # Проверяем условие на соответствие кода региона\n",
    "                if document.find('СведМН').attrib['КодРегион'] == str(regoin_code):\n",
    "                    # Если тэг ОргВклМСП присутствует в записе о данном субъекте МСП то создадим переменные:\n",
    "                    # name_org - наименование организации\n",
    "                    # region_number - номер региона (нужен для проверки не попали ли случайно\n",
    "                    # данные по другим регионам)\n",
    "                    try:\n",
    "                        name_org = document.find('ОргВклМСП').attrib\n",
    "                        region_number = document.find('СведМН').attrib\n",
    "\n",
    "                        # На каждой итерации цикла берем информацию по тегу СвОКВЭД\n",
    "                        # Данный тег находится внутри тега Документ, поэтому используем вложенный цикл\n",
    "                        for act in document.findall('СвОКВЭД'):\n",
    "                            # Если тэг СвОКВЭД присутствует в записе о данном субъекте МСП\n",
    "                            # то сздаем переменную с видом деятельности (это нужно для того, \n",
    "                            # что бы в случае если тег не найден вызвать ошибку)\n",
    "                            try:\n",
    "                                activity = act.find('СвОКВЭДОсн').attrib\n",
    "                            # Если тэг СвОКВЭД найден не был запишем в файл отсутствие \n",
    "                            # указания вида деятельности по данному субъекту МСП\n",
    "                            except:\n",
    "                                # name_org['НаимОрг'] - наименование МСП\n",
    "                                # name_org['ИННЮЛ'] - ИНН МСП\n",
    "                                activity_list.write(name_org['НаимОрг'] + 'q' + name_org['ИННЮЛ'] \n",
    "                                + 'q' + 'Оквэд не указан' + '\\n')\n",
    "                    # В случае, если тег ОргВклМСП не найден, то просто продолжаем выполнение кода            \n",
    "                    except:\n",
    "                        pass\n",
    "                \n",
    "            # Блок кода по обработке данных по индивидуальным предпринимателям\n",
    "            # На каждой итерации цикла берем информацию по тегу Документ\n",
    "            for document in root.findall('Документ'):\n",
    "                # Проверяем условие на соответствие кода региона\n",
    "                if document.find('СведМН').attrib['КодРегион'] == str(regoin_code):\n",
    "                    # Если тэг ИПВклМСП присутствует в записе о данном субъекте МСП создадим переменные:\n",
    "                    # inn_ip - ИНН ИП\n",
    "                    # region_number_ip - номер региона (нужен для проверки не попали ли случайно\n",
    "                    # данные по другим регионам)\n",
    "                    try:\n",
    "                        inn_ip = document.find('ИПВклМСП').attrib\n",
    "                        region_number_ip = document.find('СведМН').attrib\n",
    "\n",
    "                        # На каждой итерации цикла берем информацию по тегу ИПВклМСП и атрибуту ФИОИП\n",
    "                        # и создаем переменную ip_name, которая хранит ФИО ИП\n",
    "                        for name in document.findall('ИПВклМСП'):\n",
    "                            ip_name = name.find('ФИОИП').attrib\n",
    "\n",
    "                        # На каждой итерации цикла берем информацию по тегу СвОКВЭД   \n",
    "                        for act in document.findall('СвОКВЭД'):\n",
    "                            # Если тэг СвОКВЭД присутствует в записе о данном субъекте МСП\n",
    "                            # то сздаем переменную с видом деятельности (это нужно для того, \n",
    "                            # что бы в случае если тег не найден вызвать ошибку)\n",
    "                            try:\n",
    "                                activity = act.find('СвОКВЭДОсн').attrib\n",
    "                            # Если тэг СвОКВЭД найден не был запишем в файл отсутствие \n",
    "                            # указания вида деятельности по данному субъекту МСП\n",
    "                            except:\n",
    "                                # ip_name['Фамилия'] - фамилия ИП\n",
    "                                # ip_name['Имя'] - имя ИП\n",
    "                                # inn_ip['ИННФЛ'] - ИНН ИП\n",
    "                                activity_list.write(ip_name['Фамилия'] + ' ' + ip_name['Имя'] + 'q'+ inn_ip['ИННФЛ'] \n",
    "                                + 'q' + 'Оквэд не указан' + '\\n')\n",
    "                    # Если ошибок на итерации не найдено то ничего не делаем.              \n",
    "                    except:\n",
    "                        pass"
   ]
  },
  {
   "cell_type": "code",
   "execution_count": null,
   "metadata": {},
   "outputs": [],
   "source": [
    "create_activity_list('activity_list.csv', 'Реестр МСП 2019', files_25_region, 25)"
   ]
  },
  {
   "cell_type": "markdown",
   "metadata": {},
   "source": [
    "<p style=\"font-family: Inter, sans-serif; font-size: 14px; color: rgba(0,0,0,.7)\">После исполнения функции файл будет сформирован под названием <strong>activity_list.csv</strong> и сохранится в директроии с кодом.</p>"
   ]
  },
  {
   "cell_type": "code",
   "execution_count": null,
   "metadata": {},
   "outputs": [],
   "source": [
    "print(f'У {len(list(open(\"activity_list.csv\", \"r\", encoding=\"utf-8\")))} МСП не указан ОКВЭД.')"
   ]
  },
  {
   "cell_type": "markdown",
   "metadata": {},
   "source": [
    "<a href=\"#part0\"><img src=\"https://i.ibb.co/d6BxNcg/image.png\" width=\"50\" height=\"50\" align=\"right\"></a>"
   ]
  }
 ],
 "metadata": {
  "celltoolbar": "Raw Cell Format",
  "hide_input": false,
  "kernelspec": {
   "display_name": "Python 3",
   "language": "python",
   "name": "python3"
  },
  "language_info": {
   "codemirror_mode": {
    "name": "ipython",
    "version": 3
   },
   "file_extension": ".py",
   "mimetype": "text/x-python",
   "name": "python",
   "nbconvert_exporter": "python",
   "pygments_lexer": "ipython3",
   "version": "3.8.3"
  },
  "toc": {
   "base_numbering": 1,
   "nav_menu": {
    "height": "187px",
    "width": "422px"
   },
   "number_sections": false,
   "sideBar": false,
   "skip_h1_title": false,
   "title_cell": "Содержание",
   "title_sidebar": "Contents",
   "toc_cell": false,
   "toc_position": {
    "height": "433.6px",
    "left": "1118px",
    "top": "110.8px",
    "width": "395px"
   },
   "toc_section_display": true,
   "toc_window_display": false
  },
  "varInspector": {
   "cols": {
    "lenName": 16,
    "lenType": 16,
    "lenVar": 40
   },
   "kernels_config": {
    "python": {
     "delete_cmd_postfix": "",
     "delete_cmd_prefix": "del ",
     "library": "var_list.py",
     "varRefreshCmd": "print(var_dic_list())"
    },
    "r": {
     "delete_cmd_postfix": ") ",
     "delete_cmd_prefix": "rm(",
     "library": "var_list.r",
     "varRefreshCmd": "cat(var_dic_list()) "
    }
   },
   "types_to_exclude": [
    "module",
    "function",
    "builtin_function_or_method",
    "instance",
    "_Feature"
   ],
   "window_display": false
  }
 },
 "nbformat": 4,
 "nbformat_minor": 4
}
