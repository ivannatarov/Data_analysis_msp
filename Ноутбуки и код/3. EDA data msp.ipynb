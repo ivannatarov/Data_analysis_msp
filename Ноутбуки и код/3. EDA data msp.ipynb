{
 "cells": [
  {
   "cell_type": "markdown",
   "metadata": {},
   "source": [
    "<p id=\"part0\"></p>\n",
    "\n",
    "<p style=\"font-family: Verdana; line-height: 1.4; font-size: 24px; font-weight: bold; letter-spacing: 2px; text-align: center; color: #00008B\">EDA данных о развитии малого и среднего предпринимательства Пиморского края</p>"
   ]
  },
  {
   "cell_type": "markdown",
   "metadata": {},
   "source": [
    "<p style=\"font-family: Verdana; font-size: 16px; font-style: normal; font-weight: bold; letter-spacing: 3px; color: #00008B; line-height:0.3\">СОДЕРЖАНИЕ</p>\n",
    "<hr style=\"height: 0.5px; border: 0; background-color: Gray; line-height:0.3\">\n",
    "\n",
    "<p style=\"text-indent: 1vw; font-family: Verdana; font-size: 14px; font-style: normal; font-weight: normal; letter-spacing: 2px; color: #00008B; line-height:0.3\"><a href=\"#part1\">0 Импортирование библиотек</a></p>\n",
    "<hr style=\"height: 0.5px; border: 0; background-color: Gray; line-height:0.3\">\n",
    "\n",
    "<p style=\"text-indent: 1vw; font-family: Verdana; font-size: 14px; font-style: normal; font-weight: normal; letter-spacing: 2px; color: #00008B; line-height:0.3\"><a href=\"#part2\">1 Просмотр и описание данных</a></p>\n",
    "<hr style=\"height: 0.5px; border: 0; background-color: Gray; line-height:0.3\">\n",
    "\n",
    "<p style=\"text-indent: 2vw; font-family: Verdana; font-size: 12px; font-style: normal; font-weight: normal; letter-spacing: 2px; color: #00008B; line-height:0.3\">\n",
    "<a href=\"#part3\">1.1 Типы данных</a></p>\n",
    "<hr style=\"height: 0.5px; border: 0; background-color: Gray; line-height:0.3\">\n",
    "\n",
    "<p style=\"text-indent: 2vw; font-family: Verdana; font-size: 12px; font-style: normal; font-weight: normal; letter-spacing: 2px; color: #00008B; line-height:0.3\">\n",
    "<a href=\"#part4\">1.2 Пропуски в данных</a></p>\n",
    "<hr style=\"height: 0.5px; border: 0; background-color: Gray; line-height:0.3\">\n",
    "\n",
    "<p style=\"text-indent: 2vw; font-family: Verdana; font-size: 12px; font-style: normal; font-weight: normal; letter-spacing: 2px; color: #00008B; line-height:0.3\">\n",
    "<a href=\"#part5\">1.3 Дубликаты</a></p>\n",
    "<hr style=\"height: 0.5px; border: 0; background-color: Gray; line-height:0.3\">\n",
    "\n",
    "<p style=\"text-indent: 2vw; font-family: Verdana; font-size: 12px; font-style: normal; font-weight: normal; letter-spacing: 2px; color: #00008B; line-height:0.3\">\n",
    "<a href=\"#part6\">1.4 Категориальные данные</a></p>\n",
    "<hr style=\"height: 0.5px; border: 0; background-color: Gray; line-height:0.3\">\n",
    "\n",
    "<p style=\"text-indent: 2vw; font-family: Verdana; font-size: 12px; font-style: normal; font-weight: normal; letter-spacing: 2px; color: #00008B; line-height:0.3\">\n",
    "<a href=\"#part7\">1.5 Числовые данные</a></p>\n",
    "<hr style=\"height: 0.5px; border: 0; background-color: Gray; line-height:0.3\">\n",
    "\n",
    "<p style=\"text-indent: 1vw; font-family: Verdana; font-size: 14px; font-style: normal; font-weight: normal; letter-spacing: 2px; color: #00008B; line-height:0.3\"><a href=\"#part8\">2 Тестирование гипотез</a></p>\n",
    "<hr style=\"height: 0.5px; border: 0; background-color: Gray; line-height:0.3\">\n",
    "\n",
    "<p style=\"text-indent: 1vw; font-family: Verdana; font-size: 14px; font-style: normal; font-weight: normal; letter-spacing: 2px; color: #00008B; line-height:0.3\"><a href=\"#part9\">3 Итоговый вывод по результатам проведенного анализа</a></p>\n",
    "<hr style=\"height: 0.5px; border: 0; background-color: Gray; line-height:0.3\">"
   ]
  },
  {
   "cell_type": "markdown",
   "metadata": {},
   "source": [
    "<p id=\"part1\"></p>\n",
    "\n",
    "<p style=\"font-family: Verdana; font-size: 16px; font-style: normal; font-weight: bold; letter-spacing: 3px; color: #00008B\">0 ИМПОРТИРОВАНИЕ БИБЛИОТЕК</p>\n",
    "<hr style=\"height: 0.5px; border: 0; background-color: Gray\">"
   ]
  },
  {
   "cell_type": "markdown",
   "metadata": {},
   "source": [
    "<p style=\"font-family: Inter, sans-serif; font-size: 14px; color: rgba(0,0,0,.7)\"><strong>Библиотеки:</strong></p>\n",
    "\n",
    "<ol style=\"font-family: Inter, sans-serif; font-size: 14px; color: rgba(0,0,0,.7)\">\n",
    "<li>Библиотека <strong>pandas</strong> потребуется для работы с данными в табличном представлении.</li>\n",
    "<p></p>\n",
    "<li>Библиотека <strong>numpy</strong> потребуется для округления данных в корреляционной матрице.</li>\n",
    "<p></p>\n",
    "<li>Библиотека <strong>copy</strong> потребуется для создания глубоких копий объектов.</li>\n",
    "<p></p>\n",
    "<li>Библиотека <strong>missingno</strong> потребуется для визуализации пропусков в данных.</li>\n",
    "<p></p>\n",
    "<li>Библиотеки <strong>matplotlib, seaborn</strong> потребуется для визуализации данных.</li>\n",
    "<p></p>\n",
    "<li>Библиотека <strong>scipy</strong> потребуется для тестирования гипотез.</li>\n",
    "<p></p>\n",
    "<li>Библиотека <strong>scikit_posthocs</strong> потребуется для тестирования гипотез (тест Данна).</li>\n",
    "</ol>"
   ]
  },
  {
   "cell_type": "code",
   "execution_count": null,
   "metadata": {},
   "outputs": [],
   "source": [
    "import pandas as pd\n",
    "import numpy as np\n",
    "import copy\n",
    "import missingno\n",
    "import matplotlib.pyplot as plt\n",
    "import seaborn as sns\n",
    "from scipy.stats import normaltest\n",
    "from scipy.stats import mstats\n",
    "import scikit_posthocs as sp"
   ]
  },
  {
   "cell_type": "markdown",
   "metadata": {},
   "source": [
    "<p style=\"font-family: Inter, sans-serif; font-size: 14px; color: rgba(0,0,0,.7)\"><strong>Дополнительные настройки:</strong></p>\n",
    "\n",
    "<ol style=\"font-family: Inter, sans-serif; font-size: 14px; color: rgba(0,0,0,.7)\">\n",
    "<li>Настройка <strong>pd.set_option('display.max_columns', None)</strong> позволит вывести все колонки датафрейма не скрывая их.</li>\n",
    "<p></p>\n",
    "<li>Настройка <strong>pd.set_option('display.float_format', lambda x: '%.2f' % x)</strong> позволит вывести большие числа в числовом представлении а не в экспоненциальном.</li>\n",
    "</ol>"
   ]
  },
  {
   "cell_type": "code",
   "execution_count": null,
   "metadata": {},
   "outputs": [],
   "source": [
    "pd.set_option('display.max_columns', None) \n",
    "pd.set_option('display.float_format', lambda x: '%.2f' % x)"
   ]
  },
  {
   "cell_type": "markdown",
   "metadata": {},
   "source": [
    "<p id=\"part2\"></p>\n",
    "\n",
    "<p style=\"font-family: Verdana; font-size: 16px; font-style: normal; font-weight: bold; letter-spacing: 3px; color: #00008B\">1 ПРОСМОТР И ОПИСАНИЕ ДАННЫХ</p>\n",
    "<hr style=\"height: 0.5px; border: 0; background-color: Gray\">\n",
    "\n",
    "<p style=\"font-family: Inter, sans-serif; font-size: 14px; color: rgba(0,0,0,.7)\">В данном блоке будет осуществлен исследовательский анализ данных, описаны типы данных, пропуски, дубликаты, меры центральной тенденци а также взаимосвязи между переменными.  </p>"
   ]
  },
  {
   "cell_type": "markdown",
   "metadata": {},
   "source": [
    "<p id=\"part3\"></p>\n",
    "\n",
    "<p style=\"font-family: Verdana; font-size: 14px; font-style: normal; letter-spacing: 3px; color: #00008B\">1.1 Типы данных</p>"
   ]
  },
  {
   "cell_type": "markdown",
   "metadata": {},
   "source": [
    "<p style=\"font-family: Inter, sans-serif; font-size: 14px; color: rgba(0,0,0,.7)\">Подгружаем датасет.</p>"
   ]
  },
  {
   "cell_type": "code",
   "execution_count": null,
   "metadata": {
    "scrolled": false
   },
   "outputs": [],
   "source": [
    "df = pd.read_csv('data_msp.csv') # Загрузка датасета\n",
    "df.info()                        # Вывод информации по типам данных, колличеству и пропускам\n",
    "df.head()                        # Вывод первых 5 строк датасета"
   ]
  },
  {
   "cell_type": "markdown",
   "metadata": {},
   "source": [
    "<p style=\"font-family: Inter, sans-serif; font-size: 14px; color: rgba(0,0,0,.7)\">Датасет содержит 38366 записей с 53 столбцами, есть нулевые значения, пропуски, а также несоответствующие типы данных для переменных.</p>\n",
    "    \n",
    "<p style=\"font-family: Inter, sans-serif; font-size: 14px; color: rgba(0,0,0,.7)\">Приведем типы данных в соответствие:\n",
    "    \n",
    "<ol style=\"font-family: Inter, sans-serif; font-size: 14px; color: rgba(0,0,0,.7)\">\n",
    "    \n",
    "<li>Переменную <strong>ИНН</strong> приведем к строковому значению так как это не число а идентификационый номер.</li>\n",
    "<p></p>\n",
    "<li>Для столбцов <strong>Вид, Категория</strong>, которые являются категориальными признаками, т.е. признаками, которые принимают ограниченное и обычно фиксированное количество возможных значений, установим тип данных как «категория».</li>"
   ]
  },
  {
   "cell_type": "code",
   "execution_count": null,
   "metadata": {
    "code_folding": []
   },
   "outputs": [],
   "source": [
    "# Приводим к типу данных строка\n",
    "df['ИНН'] = df['ИНН'].astype('str')\n",
    "\n",
    "# Приводим к типу данных категория\n",
    "df['Категория'] = df['Категория'].astype('category')\n",
    "df['Муниципальное образование'] = df['Муниципальное образование'].astype('category')"
   ]
  },
  {
   "cell_type": "markdown",
   "metadata": {},
   "source": [
    "<p style=\"font-family: Inter, sans-serif; font-size: 14px; color: rgba(0,0,0,.7)\">Проверим, прошли ли изменения.</p>"
   ]
  },
  {
   "cell_type": "code",
   "execution_count": null,
   "metadata": {},
   "outputs": [],
   "source": [
    "df.info()"
   ]
  },
  {
   "cell_type": "markdown",
   "metadata": {},
   "source": [
    "<p style=\"font-family: Inter, sans-serif; font-size: 14px; color: rgba(0,0,0,.7)\">Удалим столбец <strong>вид</strong> так как для последующего анализа он не представляет ценности.</p>"
   ]
  },
  {
   "cell_type": "code",
   "execution_count": null,
   "metadata": {},
   "outputs": [],
   "source": [
    "del df['Вид']"
   ]
  },
  {
   "cell_type": "markdown",
   "metadata": {},
   "source": [
    "<p id=\"part4\"></p>\n",
    "\n",
    "<p style=\"font-family: Verdana; font-size: 14px; font-style: normal; letter-spacing: 3px; color: #00008B\">1.2 Пропуски в данных</p>"
   ]
  },
  {
   "cell_type": "markdown",
   "metadata": {},
   "source": [
    "<p style=\"font-family: Inter, sans-serif; font-size: 14px; color: rgba(0,0,0,.7)\">Посчитаем процентное соотношение пропусков и заполненых значений для всех колонок.</p>"
   ]
  },
  {
   "cell_type": "code",
   "execution_count": null,
   "metadata": {
    "code_folding": []
   },
   "outputs": [],
   "source": [
    "for col in df.columns:\n",
    "    pct_missing = df[col].isnull().mean()\n",
    "    print(f'{col} - {pct_missing :.1%}')"
   ]
  },
  {
   "cell_type": "markdown",
   "metadata": {},
   "source": [
    "<p style=\"font-family: Inter, sans-serif; font-size: 14px; color: rgba(0,0,0,.7)\">Наибольшее количество пропусков составляют колонки:</p>\n",
    "\n",
    "<p style=\"font-family: Inter, sans-serif; font-size: 14px; color: rgba(0,0,0,.7)\"><strong><u>79.4%:</u></strong>.</p>\n",
    "\n",
    "<ul style=\"font-family: Inter, sans-serif; font-size: 14px; color: rgba(0,0,0,.7)\">    \n",
    "<li>Акцизы н</li>\n",
    "<li>Водный налог н</li>\n",
    "<li>ЕНВД н</li>\n",
    "<li>ЕСХН н</li>\n",
    "<li>Задолженность и перерасчеты по отмененным налогам н</li>\n",
    "<li>Земельный налог н</li>\n",
    "<li>Неналоговые доходы, администрируемые налоговыми органами н</li>\n",
    "<li>НДС н</li>\n",
    "<li>НДПИ н</li>\n",
    "<li>НДФЛ н</li>\n",
    "<li>Налог на имущество организаций н</li>\n",
    "<li>Налог на прибыль н</li>\n",
    "<li>УСН н</li>\n",
    "<li>Сборы за пользование объектами животного мира и за пользование объектами ВБР н</li>\n",
    "<li>Страховые взносы мед н</li>\n",
    "<li>Страховые взносы соц н</li>\n",
    "<li>Страховые и другие взносы пенс н</li>\n",
    "<li>Торговый сбор н</li>\n",
    "<li>Транспортный налог н</li>\n",
    "</ul>\n",
    "\n",
    "<p style=\"font-family: Inter, sans-serif; font-size: 14px; color: rgba(0,0,0,.7)\"><strong><u>42.7%:</u></strong>.</p>\n",
    "\n",
    "<ul style=\"font-family: Inter, sans-serif; font-size: 14px; color: rgba(0,0,0,.7)\">    \n",
    "<li>ЕСХН</li>\n",
    "<li>УСН</li>\n",
    "<li>ЕНВД</li>\n",
    "<li>СРП</li>\n",
    "</ul>\n",
    "\n",
    "<p style=\"font-family: Inter, sans-serif; font-size: 14px; color: rgba(0,0,0,.7)\">По остальным колонкам пропуски составляют небольшую долю в данных.</p>"
   ]
  },
  {
   "cell_type": "markdown",
   "metadata": {},
   "source": [
    "<p style=\"font-family: Inter, sans-serif; font-size: 14px; color: rgba(0,0,0,.7)\">Визуализируем матрицу пропусков.</p>"
   ]
  },
  {
   "cell_type": "code",
   "execution_count": null,
   "metadata": {},
   "outputs": [],
   "source": [
    "print('Визуализация пропущенных значений со всеми пропусками.')\n",
    "missingno.matrix(df, fontsize = 14) # Передаем в качестве аргументов датафрейм, а также указываем размер шрифта\n",
    "plt.show()"
   ]
  },
  {
   "cell_type": "code",
   "execution_count": null,
   "metadata": {},
   "outputs": [],
   "source": [
    "print('Колонки с наибольшим количеством пропусков.')\n",
    "df.iloc[:, 12:31].columns # Берем срез от датафрейма и выводим названия колонок"
   ]
  },
  {
   "cell_type": "code",
   "execution_count": null,
   "metadata": {},
   "outputs": [],
   "source": [
    "print('Визуализация пропущенных значений, в случае если убрать наибольшую часть пропусков в датасете.')\n",
    "missingno.matrix(df[df['Акцизы н'].notnull()], fontsize = 14) # Передаем в качестве аргументов датафрейм, \n",
    "                                                              # а также указываем размер шрифта\n",
    "plt.show()"
   ]
  },
  {
   "cell_type": "code",
   "execution_count": null,
   "metadata": {},
   "outputs": [],
   "source": [
    "print('Остались следующие колонки с наибольшим количеством пропусков.')\n",
    "df[df['Доход'].notnull()].iloc[:, 6:12].columns # Берем срез от датафрейма и выводим названия колонок"
   ]
  },
  {
   "cell_type": "markdown",
   "metadata": {},
   "source": [
    "<p style=\"font-family: Inter, sans-serif; font-size: 14px; color: rgba(0,0,0,.7)\">В дальнейшем, колонки с системами налогообложения ценности особой не представляют, а вот информация о доходе и расходе у субъектов малого и среднего предпринимательства может потребоваться. Почистим в них пропуски и сформируем итоговый датафрейм.</p>"
   ]
  },
  {
   "cell_type": "code",
   "execution_count": null,
   "metadata": {},
   "outputs": [],
   "source": [
    "print('Визуализация пропущенных значений, в случае если оставить только необходимую для дальнейшего анализа информацию.')\n",
    "# Передаем в качестве аргументов датафрейм, а также указываем размер шрифта\n",
    "missingno.matrix(df[df['Акцизы н'].notnull() & df['Доход'].notnull()], fontsize = 14)\n",
    "plt.show()"
   ]
  },
  {
   "cell_type": "code",
   "execution_count": null,
   "metadata": {},
   "outputs": [],
   "source": [
    "print('Колонки с наибольшим количеством пропусков.')\n",
    "df[df['Акцизы н'].notnull() & df['Доход'].notnull()].iloc[:, 8:12].columns"
   ]
  },
  {
   "cell_type": "markdown",
   "metadata": {},
   "source": [
    "<p style=\"font-family: Inter, sans-serif; font-size: 14px; color: rgba(0,0,0,.7)\">Так как проводить анализ по данным, содержащим подавляющее число пропусков нецелесообразно, создадим датафрейм с максимально возможной информацией без пропусков для последующего анализа. </p>"
   ]
  },
  {
   "cell_type": "code",
   "execution_count": null,
   "metadata": {},
   "outputs": [],
   "source": [
    "data_for_analysis = copy.deepcopy(df[df['Акцизы н'].notnull() & df['Доход'].notnull()])"
   ]
  },
  {
   "cell_type": "markdown",
   "metadata": {},
   "source": [
    "<p style=\"font-family: Inter, sans-serif; font-size: 14px; color: rgba(0,0,0,.7)\">Проверим количество муниципальных образований в данных. Важно что бы их было 34, так как в дальнейшем планируется проверить гипотезу где потребуются данные по каждому муниципалитету.</p>"
   ]
  },
  {
   "cell_type": "code",
   "execution_count": null,
   "metadata": {},
   "outputs": [],
   "source": [
    "if len(set(data_for_analysis['Муниципальное образование'])) == 34:\n",
    "    print('Данные содержат информацию по каждому муниципальному образованию')\n",
    "else:\n",
    "    print('Данные содержат информацию не по каждому муниципальному образованию')"
   ]
  },
  {
   "cell_type": "markdown",
   "metadata": {},
   "source": [
    "<p id=\"part5\"></p>\n",
    "\n",
    "<p style=\"font-family: Verdana; font-size: 14px; font-style: normal; letter-spacing: 3px; color: #00008B\">1.3 Дубликаты</p>"
   ]
  },
  {
   "cell_type": "markdown",
   "metadata": {},
   "source": [
    "<p style=\"font-family: Verdana; font-size: 12px; font-style: normal; letter-spacing: 3px; color: #00008B\">1.3.1 Наименование МСП</p>"
   ]
  },
  {
   "cell_type": "code",
   "execution_count": null,
   "metadata": {},
   "outputs": [],
   "source": [
    "if df['Наименование МСП'].duplicated().any() == True:\n",
    "    print('Данные содержат дубликаты.')\n",
    "else:\n",
    "    print('Данные не содержат дубликаты.')"
   ]
  },
  {
   "cell_type": "markdown",
   "metadata": {},
   "source": [
    "<p style=\"font-family: Inter, sans-serif; font-size: 14px; color: rgba(0,0,0,.7)\">Данные о наименовании субъекта МСП содержат дубликаты по причине того, что названия могут быть одинаковые. В рамках данного анализа информация не представляет особого интереса.</p>"
   ]
  },
  {
   "cell_type": "markdown",
   "metadata": {},
   "source": [
    "<p style=\"font-family: Verdana; font-size: 12px; font-style: normal; letter-spacing: 3px; color: #00008B\">1.3.2 ИНН</p>"
   ]
  },
  {
   "cell_type": "code",
   "execution_count": null,
   "metadata": {},
   "outputs": [],
   "source": [
    "if df['ИНН'].duplicated().any() == True:\n",
    "    print('Данные содержат дубликаты.')\n",
    "else:\n",
    "    print('Данные не содержат дубликаты.')"
   ]
  },
  {
   "cell_type": "markdown",
   "metadata": {},
   "source": [
    "<p style=\"font-family: Inter, sans-serif; font-size: 14px; color: rgba(0,0,0,.7)\">Данные об ИНН субъекта МСП не содержат дубликаты по причине того, что ИНН это уникальный номер, он не может быть один у двух и более юридических лиц или индивидуальных предприимателей. По данной информаци можно строить агрегаты, а также использовать в качестве уникального ключа, идентифицирующего конкретную запись о субъекте МСП.</p>"
   ]
  },
  {
   "cell_type": "markdown",
   "metadata": {},
   "source": [
    "<p style=\"font-family: Verdana; font-size: 12px; font-style: normal; letter-spacing: 3px; color: #00008B\">1.3.3 Муниципальное образование</p>"
   ]
  },
  {
   "cell_type": "code",
   "execution_count": null,
   "metadata": {},
   "outputs": [],
   "source": [
    "if df['Муниципальное образование'].duplicated().any() == True:\n",
    "    print('Данные содержат дубликаты.')\n",
    "else:\n",
    "    print('Данные не содержат дубликаты.')"
   ]
  },
  {
   "cell_type": "markdown",
   "metadata": {},
   "source": [
    "<p style=\"font-family: Inter, sans-serif; font-size: 14px; color: rgba(0,0,0,.7)\">Данные о муниципальном образовании, в котором зарегистрирован субъект МСП содержат дубликаты по причине того, что муниципальное образование это территория, на которой может осуществлять свою деятельность более одного субъекта МСП. По данной категориальной переменной можно строить агрегированную информацию в разрезе муниципальных образований.</p>"
   ]
  },
  {
   "cell_type": "markdown",
   "metadata": {},
   "source": [
    "<p style=\"font-family: Verdana; font-size: 12px; font-style: normal; letter-spacing: 3px; color: #00008B\">1.3.4 Категория</p>"
   ]
  },
  {
   "cell_type": "code",
   "execution_count": null,
   "metadata": {},
   "outputs": [],
   "source": [
    "if df['Категория'].duplicated().any() == True:\n",
    "    print('Данные содержат дубликаты.')\n",
    "else:\n",
    "    print('Данные не содержат дубликаты.')"
   ]
  },
  {
   "cell_type": "markdown",
   "metadata": {},
   "source": [
    "<p style=\"font-family: Inter, sans-serif; font-size: 14px; color: rgba(0,0,0,.7)\">Данные о категори, к которой отнесен субъект МСП содержат дубликаты по причине того, что к одной и той же категории может относится более одного субъекта МСП. По данной категориальной переменной можно строить агрегированную информацию в разрезе категорий МСП.</p>"
   ]
  },
  {
   "cell_type": "markdown",
   "metadata": {},
   "source": [
    "<p style=\"font-family: Verdana; font-size: 12px; font-style: normal; letter-spacing: 3px; color: #00008B\">1.3.5 Код ОКВЭД</p>"
   ]
  },
  {
   "cell_type": "code",
   "execution_count": null,
   "metadata": {},
   "outputs": [],
   "source": [
    "if df['Код ОКВЭД'].duplicated().any() == True:\n",
    "    print('Данные содержат дубликаты.')\n",
    "else:\n",
    "    print('Данные не содержат дубликаты.')"
   ]
  },
  {
   "cell_type": "markdown",
   "metadata": {},
   "source": [
    "<p style=\"font-family: Inter, sans-serif; font-size: 14px; color: rgba(0,0,0,.7)\">Данные о коде ОКВЭД, указанном как основной вид деятельности у субъекта МСП, содержат дубликаты по причине того, что субъекты МСП могут осуществлять одни и тежи виды деятельности. По данной категориальной переменной можно строить агрегированную информацию в разрезе ОКВЭД МСП (в данном анализе это не представляет особого интереса).</p>"
   ]
  },
  {
   "cell_type": "markdown",
   "metadata": {},
   "source": [
    "<p style=\"font-family: Verdana; font-size: 12px; font-style: normal; letter-spacing: 3px; color: #00008B\">1.3.6 Вид деятельности</p>"
   ]
  },
  {
   "cell_type": "code",
   "execution_count": null,
   "metadata": {},
   "outputs": [],
   "source": [
    "if df['Вид деятельности'].duplicated().any() == True:\n",
    "    print('Данные содержат дубликаты.')\n",
    "else:\n",
    "    print('Данные не содержат дубликаты.')"
   ]
  },
  {
   "cell_type": "markdown",
   "metadata": {},
   "source": [
    "<p style=\"font-family: Inter, sans-serif; font-size: 14px; color: rgba(0,0,0,.7)\">Данные о наименовании вида деятельности у субъекта МСП содержат дубликаты по причине того, что субъекты МСП могут осуществлять одни и тежи виды деятельности. По данной категориальной переменной можно строить агрегированную информацию в разрезе ОКВЭД МСП (в данном анализе это не представляет особого интереса).</p>"
   ]
  },
  {
   "cell_type": "markdown",
   "metadata": {},
   "source": [
    "<p id=\"part6\"></p>\n",
    "\n",
    "<p style=\"font-family: Verdana; font-size: 14px; font-style: normal; letter-spacing: 3px; color: #00008B\">1.4 Категориальные данные</p>"
   ]
  },
  {
   "cell_type": "markdown",
   "metadata": {},
   "source": [
    "<p style=\"font-family: Inter, sans-serif; font-size: 14px; color: rgba(0,0,0,.7)\">Визуализируем распределение субъектов малого и среднего предпринимательства по количеству в разрезе муниципальных образований Приморского края.</p>"
   ]
  },
  {
   "cell_type": "code",
   "execution_count": null,
   "metadata": {
    "code_folding": [],
    "scrolled": false
   },
   "outputs": [],
   "source": [
    "# Задаем размеры визуализации\n",
    "plt.figure(figsize=(15, 9))\n",
    "# Строим гистограмму где по оси ординат передаем наименование муниципального образования\n",
    "sns.countplot(y='Муниципальное образование', \n",
    "              data=data_for_analysis, # Передаем датафрейм\n",
    "              order = data_for_analysis['Муниципальное образование'].value_counts().index) # Считаем количество\n",
    "plt.show() # Выводим график"
   ]
  },
  {
   "cell_type": "markdown",
   "metadata": {},
   "source": [
    "<p style=\"font-family: Inter, sans-serif; font-size: 14px; color: rgba(0,0,0,.7)\">Как видно из данной визуализации подавляющее число субъектов малого и среднего предпринимательства сосредоточено в городе Владивостоке, далее идет город Находка, Артем и Усурийск. В остальных муниципалитетах сосредоточенно примерно одинаковое количество субъектов малого и среднего предпринимательтсва региона что вполне соответствует реальности.</p>"
   ]
  },
  {
   "cell_type": "markdown",
   "metadata": {},
   "source": [
    "<p style=\"font-family: Inter, sans-serif; font-size: 14px; color: rgba(0,0,0,.7)\">Визуализируем распределение субъектов малого и среднего предпринимательства по количеству в разрезе категорий.</p>"
   ]
  },
  {
   "cell_type": "code",
   "execution_count": null,
   "metadata": {},
   "outputs": [],
   "source": [
    "# Задаем размеры визуализации\n",
    "plt.figure(figsize=(15, 2))\n",
    "# Строим гистограмму где по оси ординат передаем категорию бизнеса\n",
    "sns.countplot(y='Категория', \n",
    "              data=data_for_analysis, # Передаем датафрейм\n",
    "              order = data_for_analysis['Категория'].value_counts().index) # Считаем количество\n",
    "plt.show() # Выводим график"
   ]
  },
  {
   "cell_type": "markdown",
   "metadata": {},
   "source": [
    "<p style=\"font-family: Inter, sans-serif; font-size: 14px; color: rgba(0,0,0,.7)\">Как видно из данной визуализации подавляющее число субъектов малого и среднего предпринимательства относится к категории микропредприятий, затем идут малые предприятия и самую незначительную долю составляет средний бизнес.</p>"
   ]
  },
  {
   "cell_type": "markdown",
   "metadata": {},
   "source": [
    "<p id=\"part7\"></p>\n",
    "\n",
    "<p style=\"font-family: Verdana; font-size: 14px; font-style: normal; letter-spacing: 3px; color: #00008B\">1.5 Числовые данные</p>"
   ]
  },
  {
   "cell_type": "markdown",
   "metadata": {},
   "source": [
    "<p style=\"font-family: Inter, sans-serif; font-size: 14px; color: rgba(0,0,0,.7)\">Выведем меры центральной тенденции.</p>"
   ]
  },
  {
   "cell_type": "code",
   "execution_count": null,
   "metadata": {
    "scrolled": false
   },
   "outputs": [],
   "source": [
    "data_for_analysis.describe().T # Выводим количесвто, ско, среднее, процентили, минимальное и максимальное значение, размах"
   ]
  },
  {
   "cell_type": "code",
   "execution_count": null,
   "metadata": {},
   "outputs": [],
   "source": [
    "data_for_analysis.mode()[:1] # Смотрим на моду в данных"
   ]
  },
  {
   "cell_type": "markdown",
   "metadata": {},
   "source": [
    "<p style=\"font-family: Inter, sans-serif; font-size: 14px; color: rgba(0,0,0,.7)\"><strong><u>Выводы:</u></strong>.</p>\n",
    "\n",
    "<ol style=\"font-family: Inter, sans-serif; font-size: 14px; color: rgba(0,0,0,.7)\">    \n",
    "\n",
    "<li>Данные имеют большой размах;</li>\n",
    "<p></p>\n",
    "<li>В данных присутствуют нулевые значения (естественные, не отсутствие значения);</li>\n",
    "<p></p>\n",
    "<li>Данные имеют выбросы (естественные);</li>\n",
    "<p></p>\n",
    "<li>Присутствуют отрицательные значения;</li>\n",
    "<p></p>\n",
    "<li>В большенстве колонок (уплата / не уплата) до 75% процентиля лежат нули;</li>\n",
    "<p></p>\n",
    "<li>Среднее значение сильно отличается от медианы;</li>\n",
    "<p></p>\n",
    "<li>Колонка \"налог на игорный бизнес у\" содержит только нулевые значения;</li>\n",
    "<p></p>\n",
    "<li>В числовых данных наиболее часто встречаемое значение равное нулю (чаще всего бизнес платит налоги в полном объеме);</li>\n",
    "<p></p>\n",
    "<li>Ниболее часто встречаемый вид деятельности 41.20 \"Строительство жилых и нежилых зданий\";</li>\n",
    "<p></p>\n",
    "<li>Нииболее часто встречаемая категория МСП микропредприятие;</li>\n",
    "<p></p>\n",
    "<li>Наиболее часто встречаемый муниципалитет город Владивосток.</li>\n",
    "</ol>"
   ]
  },
  {
   "cell_type": "markdown",
   "metadata": {},
   "source": [
    "<p style=\"font-family: Inter, sans-serif; font-size: 14px; color: rgba(0,0,0,.7)\">Удалим колонки, которые в дальнейшем не потребуются.</p>"
   ]
  },
  {
   "cell_type": "code",
   "execution_count": null,
   "metadata": {},
   "outputs": [],
   "source": [
    "data_for_analysis.drop(['Наименование МСП',\n",
    "                        'Код ОКВЭД',\n",
    "                        'Вид деятельности',\n",
    "                        'ЕСХН', \n",
    "                        'УСН', \n",
    "                        'ЕНВД', \n",
    "                        'СРП', \n",
    "                        'Налог на игорный бизнес у'], axis=1, inplace=True) "
   ]
  },
  {
   "cell_type": "markdown",
   "metadata": {},
   "source": [
    "<p style=\"font-family: Inter, sans-serif; font-size: 14px; color: rgba(0,0,0,.7)\">Визуализируем распределения по всем числовым признакам датафрейма. Построим боксплот и частотный график для каждой колонки.</p>"
   ]
  },
  {
   "cell_type": "code",
   "execution_count": null,
   "metadata": {
    "code_folding": [],
    "scrolled": false
   },
   "outputs": [],
   "source": [
    "def vizualization_number_data(df, start_column, width, height):\n",
    "    \"\"\"\n",
    "        Функция возвращающая для каждой числовой колонки датафрейма \n",
    "        боксплот и частотный график\n",
    "\n",
    "    Аргументы функции:\n",
    "        df - датафрейм\n",
    "        start_column - начало среза (с какой колонки начать)\n",
    "        width - ширина графика\n",
    "        height - высота графика\n",
    "\n",
    "    Возвращаемое значение:\n",
    "        Функция визуализирует для каждой числовой переменной частотный график и боксплот\n",
    "    \n",
    "    \"\"\"\n",
    "    # Задаем количество строк вывода\n",
    "    quantity_string = len(df.iloc[:, start_column:].columns)\n",
    "    # Создаем счетчик графика\n",
    "    counter_graph = 0\n",
    "    \n",
    "    # В цикле итерируемся по каждой колонке\n",
    "    for i in df.iloc[:, start_column:]:\n",
    "        # Задаем размеры графиков\n",
    "        plt.figure(figsize=(width, height))\n",
    "        # Наращиваем порядковый номер графика\n",
    "        counter_graph += 1\n",
    "        # Задаем параметры отображения графика\n",
    "        # quantity_string - количество строк\n",
    "        # 2 - количество графиков в строке\n",
    "        # counter_graph - порядковый номер графика\n",
    "        plt.subplot(quantity_string, 2, counter_graph) \n",
    "        # Создаем бокс плот\n",
    "        # В x передаем наименование колонки\n",
    "        # В data передаем датафрейм\n",
    "        sns.boxplot(x=i, data=df)\n",
    "        # Наращиваем порядковый номер графика\n",
    "        counter_graph += 1\n",
    "        # Задаем параметры отображения графика\n",
    "        # quantity_string - количество строк\n",
    "        # 2 - количество графиков в строке\n",
    "        # counter_graph - порядковый номер графика\n",
    "        plt.subplot(quantity_string, 2, counter_graph)\n",
    "        # Создаем частотный график\n",
    "        # В i передаем название колонки\n",
    "        # kde=False убираем линию с частотного графика\n",
    "        sns.distplot(df[i], kde=False)\n",
    "        plt.show()"
   ]
  },
  {
   "cell_type": "code",
   "execution_count": null,
   "metadata": {},
   "outputs": [],
   "source": [
    "vizualization_number_data(data_for_analysis, 3, 20, 155)"
   ]
  },
  {
   "cell_type": "markdown",
   "metadata": {},
   "source": [
    "<p style=\"font-family: Inter, sans-serif; font-size: 14px; color: rgba(0,0,0,.7)\">Из построенных визуализаций видно, что данные имеют выбросы, и гамма распределение (сильная ассиметрия данных).</p>"
   ]
  },
  {
   "cell_type": "markdown",
   "metadata": {},
   "source": [
    "<p style=\"font-family: Inter, sans-serif; font-size: 14px; color: rgba(0,0,0,.7)\">Для установления связей между числовыми переменными построим и визуализируем корреляционную матрицу.</p>"
   ]
  },
  {
   "cell_type": "code",
   "execution_count": null,
   "metadata": {},
   "outputs": [],
   "source": [
    "# Создадим датафрейм для корреляционной матрицы\n",
    "data_matrix = data_for_analysis[['Доход', 'Расход','Акцизы н', 'Водный налог н', 'ЕНВД н', 'ЕСХН н',\n",
    "                                 'Задолженность и перерасчеты по отмененным налогам н','Земельный налог н',\n",
    "                                 'Неналоговые доходы, администрируемые налоговыми органами н', 'НДС н',\n",
    "                                 'НДПИ н', 'НДФЛ н', 'Налог на имущество организаций н', 'Налог на прибыль н', 'УСН н',\n",
    "                                 'Сборы за пользование объектами животного мира и за пользование объектами ВБР н',\n",
    "                                 'Страховые взносы мед н', 'Страховые взносы соц н', 'Страховые и другие взносы пенс н',\n",
    "                                 'Торговый сбор н', 'Транспортный налог н', 'Акцизы у', 'Водный налог у', 'ЕНВД у',\n",
    "                                 'ЕСХН у', 'Задолженность и перерасчеты по отмененным налогам у', 'Земельный налог у',\n",
    "                                 'Неналоговые доходы, администрируемые налоговыми органами у', 'НДС у', 'НДПИ у', \n",
    "                                 'НДФЛ у', 'Налог на имущество организаций у', 'Налог на прибыль у', 'УСН у',\n",
    "                                 'Сборы за пользование объектами животного мира и за пользование объектами ВБР у',\n",
    "                                 'Страховые взносы мед у', 'Страховые взносы соц у', 'Страховые и другие взносы пенс у',\n",
    "                                 'Торговый сбор у', 'Транспортный налог у', 'Утилизационный сбор у']]"
   ]
  },
  {
   "cell_type": "markdown",
   "metadata": {},
   "source": [
    "<p style=\"font-family: Inter, sans-serif; font-size: 14px; color: rgba(0,0,0,.7)\">Переименуем названия признаков для удобства визуализации корреляционной матрицы:\n",
    "<ol style=\"font-family: Inter, sans-serif; font-size: 14px; color: rgba(0,0,0,.7)\">    \n",
    "    \n",
    "    \n",
    "<li>Доход.</li>\n",
    "<li>Расход.</li>\n",
    "<li>Акцизы н.</li>\n",
    "<li>Водный налог н.</li>\n",
    "<li>ЕНВД н.</li>\n",
    "<li>ЕСХН н.</li>\n",
    "<li>Задолженность и перерасчеты по отмененным налогам н.</li>\n",
    "<li>Земельный налог н.</li>\n",
    "<li>Неналоговые доходы, администрируемые налоговыми органами н.</li>\n",
    "<li>НДС н.</li>\n",
    "<li>НДПИ н.</li>\n",
    "<li>НДФЛ н.</li>\n",
    "<li>Налог на имущество организаций н.</li>\n",
    "<li>Налог на прибыль н.</li>\n",
    "<li>УСН н.</li>\n",
    "<li>Сборы за пользование объектами животного мира и за пользование объектами ВБР н.</li>\n",
    "<li>Страховые взносы мед н.</li>\n",
    "<li>Страховые взносы соц н.</li>\n",
    "<li>Страховые и другие взносы пенс н.</li>\n",
    "<li>Торговый сбор н.</li>\n",
    "<li>Транспортный налог н.</li>\n",
    "<li>Акцизы у.</li>\n",
    "<li>Водный налог у.</li>\n",
    "<li>ЕНВД у.</li>\n",
    "<li>ЕСХН у.</li>\n",
    "<li>Задолженность и перерасчеты по отмененным налогам у.</li>\n",
    "<li>Земельный налог у.</li>\n",
    "<li>Неналоговые доходы, администрируемые налоговыми органами у.</li>\n",
    "<li>НДС у.</li>\n",
    "<li>НДПИ у.</li>\n",
    "<li>НДФЛ у.</li>\n",
    "<li>Налог на имущество организаций .</li>\n",
    "<li>Налог на прибыль у.</li>\n",
    "<li>УСН у.</li>\n",
    "<li>Сборы за пользование объектами животного мира и за пользование объектами ВБР у.</li>\n",
    "<li>Страховые взносы мед у.</li>\n",
    "<li>Страховые взносы соц у.</li>\n",
    "<li>Страховые и другие взносы пенс у.</li>\n",
    "<li>Торговый сбор у.</li>\n",
    "<li>Транспортный налог у.</li>\n",
    "<li>Утилизационный сбор у.</li>\n",
    "</ol></p>"
   ]
  },
  {
   "cell_type": "code",
   "execution_count": null,
   "metadata": {},
   "outputs": [],
   "source": [
    "# Зададим новые названия колонок\n",
    "data_matrix.columns = ['1', '2', '3', '4', '5', '6',\n",
    "                       '7', '8', '9', '10', '11', '12', \n",
    "                       '13', '14', '15', '16', '17', '18', \n",
    "                       '19', '20', '21', '22', '23', '24',\n",
    "                       '25', '26', '27', '28', '29', '30', \n",
    "                       '31', '32', '33', '34', '35', '36',\n",
    "                       '37', '38', '39', '40', '41']"
   ]
  },
  {
   "cell_type": "code",
   "execution_count": null,
   "metadata": {},
   "outputs": [],
   "source": [
    "# Построим корреляционную матрицу\n",
    "matrix_corr = np.round(data_matrix.corr(), decimals=2)"
   ]
  },
  {
   "cell_type": "code",
   "execution_count": null,
   "metadata": {},
   "outputs": [],
   "source": [
    "# Создадим размеры визуализации\n",
    "plt.figure(figsize=(30, 21))\n",
    "# Визуализируем корреляционную матрицу\n",
    "heatmap = sns.heatmap(matrix_corr,    # Передаем датафрейм\n",
    "                      annot=True,     # Отображаем числовые значения\n",
    "                      cmap='RdYlGn',  # Устанавливаем визуальное оформление\n",
    "                      linewidths=0.2) # Устанавливаем толщину линий"
   ]
  },
  {
   "cell_type": "markdown",
   "metadata": {},
   "source": [
    "<p style=\"font-family: Inter, sans-serif; font-size: 14px; color: rgba(0,0,0,.7)\"><strong><u>Корреляционная матрица показывает:</u></strong></p>\n",
    "\n",
    "<ol style=\"font-family: Inter, sans-serif; font-size: 14px; color: rgba(0,0,0,.7)\">    \n",
    "<li>Отсутствие обратной линейной зависимости между числовыми признаками датасета;</li>\n",
    "<p></p>\n",
    "<li>Наличие сильной прямой линейной зависимости между доходом и расходом у субъектов малого и среднего предпринимательства что вполне более чем логично. Как правило чем выше доходы компании тем крупнее компания и тем больше нужно нести расходов, обеспечивающих компании прибыль и эффективное функционирование;</li>\n",
    "<p></p>\n",
    "<li>Наличие средней прямой линейной зависимости между суммами неуплаченных налогов что более чем логично. Обычно, недобросовестные компании неупалчивают все типы налогов (за исключением компаний, где мог быть расчитан не корректно какой то конкретный налог и соответственно произошло недопоступление в бюджет), таким образом чем выше неуплата по одному налогу тем выше она может быть и по другим налогам (например налог на прибыль и НДС);</li>\n",
    "<p></p>\n",
    "<li>Наличие средней прямой линейной зависимости между суммами уплаченных налогов что более чем логично. Обычно, с ростом одного налога к уплате и растет сумма иных налогов (например налог на прибыль и ндс);</li> \n",
    "<p></p>\n",
    "<li>Наличие сильной прямой линейной зависимости между суммами неуплаченных страховых взносов что вполне логично, так как база для расчета единая для всех тарифов страховых взносов;</li>\n",
    "<p></p>\n",
    "<li>Наличие сильной прямой линейной зависимости между суммами уплаченных страховых взносов что вполне логично, так как база для расчета единая для всех тарифов страховых взносов.</li> \n",
    "</ol>"
   ]
  },
  {
   "cell_type": "markdown",
   "metadata": {},
   "source": [
    "<p style=\"font-family: Inter, sans-serif; font-size: 14px; color: rgba(0,0,0,.7)\">Так как цель анализа установить различия налоговой платежеспособности у субъектов малого и среднего предпринимательства в муниципальных образованиях, в такой декомпозиции данных нет необходимости. Объединим группы данных в новые переменные.</p>"
   ]
  },
  {
   "cell_type": "code",
   "execution_count": null,
   "metadata": {},
   "outputs": [],
   "source": [
    "# Создадим новую колонку с суммой неуплаченных налогов\n",
    "data_for_analysis['Налоги долг'] = data_for_analysis[['Акцизы н', 'Водный налог н', 'ЕНВД н', 'ЕСХН н',\n",
    "                            'Земельный налог н', 'НДС н', 'НДПИ н', 'НДФЛ н', \n",
    "                            'Налог на имущество организаций н', 'Налог на прибыль н', \n",
    "                            'УСН н', 'Торговый сбор н', 'Транспортный налог н']].sum(axis=1)\n",
    "\n",
    "# Создадим новую колонку с суммой уплаченных налогов\n",
    "data_for_analysis['Налоги уплата'] = data_for_analysis[['Акцизы у', 'Водный налог у', 'ЕНВД у', 'ЕСХН у',\n",
    "                            'Земельный налог у', 'НДС у', 'НДПИ у', 'НДФЛ у', \n",
    "                            'Налог на имущество организаций у', 'Налог на прибыль у', \n",
    "                            'УСН у', 'Торговый сбор у', 'Транспортный налог у']].sum(axis=1)\n",
    "\n",
    "# Создадим новую колонку с суммой неуплаченных страховых взносов\n",
    "data_for_analysis['Страховые неуплата'] = data_for_analysis.loc[:, 'Страховые взносы мед н':\\\n",
    "                            'Страховые и другие взносы пенс н'].sum(axis=1)\n",
    "\n",
    "# Создадим новую колонку с суммой уплаченных страховых взносов\n",
    "data_for_analysis['Страховые уплата'] = data_for_analysis.loc[:, 'Страховые взносы мед у':\\\n",
    "                            'Страховые и другие взносы пенс у'].sum(axis=1)\n",
    "\n",
    "# Создадим новую колонку с суммой неуплаченых иных платежей\n",
    "data_for_analysis['Иные платежи долг'] = data_for_analysis[['Задолженность и перерасчеты по отмененным налогам н',\n",
    "                            'Неналоговые доходы, администрируемые налоговыми органами н',\n",
    "                            'Сборы за пользование объектами животного мира и за пользование объектами ВБР н']].sum(axis=1)\n",
    "\n",
    "# Создадим новую колонку с суммой уплаченых иных платежей\n",
    "data_for_analysis['Иные платежи уплата'] = data_for_analysis[['Задолженность и перерасчеты по отмененным налогам у',\n",
    "                            'Неналоговые доходы, администрируемые налоговыми органами у',\n",
    "                            'Сборы за пользование объектами животного мира и за пользование объектами ВБР у',\n",
    "                            'Утилизационный сбор у']].sum(axis=1)\n",
    " \n",
    "# Создадим датафрейм с новыми признаками\n",
    "data_new_features = copy.deepcopy(data_for_analysis[['ИНН', 'Муниципальное образование', 'Категория',\n",
    "                            'Доход', 'Расход', 'Налоги долг', 'Иные платежи долг', \n",
    "                            'Налоги уплата', 'Иные платежи уплата', 'Страховые неуплата', 'Страховые уплата']])\n",
    "data_new_features.head()"
   ]
  },
  {
   "cell_type": "markdown",
   "metadata": {},
   "source": [
    "<p id=\"part8\"></p>\n",
    "\n",
    "<p style=\"font-family: Verdana; font-size: 16px; font-style: normal; font-weight: bold; letter-spacing: 3px; color: #00008B\">2 ТЕСТИРОВАНИЕ ГИПОТЕЗ</p>\n",
    "<hr style=\"height: 0.5px; border: 0; background-color: Gray\">\n",
    "\n",
    "<p style=\"font-family: Inter, sans-serif; font-size: 14px; color: rgba(0,0,0,.7)\"><strong><u>В данном блоке ответим на следующие вопросы:</u></strong></p>\n",
    "\n",
    "<ol style=\"font-family: Inter, sans-serif; font-size: 14px; color: rgba(0,0,0,.7)\">    \n",
    "<li>Отличаются ли муниципальные образования по уровню налоговой платежеспособности у субъектов МСП?</li>\n",
    "<p></p>\n",
    "<li>В каких муниципальных образованиях наиболее низкий уровень налоговой платежеспособности?</li>    \n",
    "</ol>"
   ]
  },
  {
   "cell_type": "markdown",
   "metadata": {},
   "source": [
    "<p style=\"font-family: Inter, sans-serif; font-size: 14px; color: rgba(0,0,0,.7)\"><strong><u>1. Отличаются ли муниципальные образования по уровню налоговой платежеспособности у субъектов МСП?</u></strong></p>\n",
    "<p style=\"font-family: Inter, sans-serif; font-size: 14px; color: rgba(0,0,0,.7)\">Н0 - Муниципальные образования Приморского края не отличаются по уровню налоговой платежеспособности субъектов МСП.<br>Н1 - Муниципальные образования Приморского края отличаются по уровню налоговой платежеспособности субъектов МСП.</p>"
   ]
  },
  {
   "cell_type": "markdown",
   "metadata": {},
   "source": [
    "<p style=\"font-family: Inter, sans-serif; font-size: 14px; color: rgba(0,0,0,.7)\"> Переведем все числовые данные к целочисленному формату для корректного проведения тестов.</p>"
   ]
  },
  {
   "cell_type": "code",
   "execution_count": null,
   "metadata": {
    "code_folding": []
   },
   "outputs": [],
   "source": [
    "# На каждой итерации берем колонку и приводим\n",
    "# формат числа к целочисленному\n",
    "for col_name in data_new_features.iloc[:, 3:]:\n",
    "    data_new_features[col_name] = data_new_features[col_name].astype('int64')"
   ]
  },
  {
   "cell_type": "code",
   "execution_count": null,
   "metadata": {},
   "outputs": [],
   "source": [
    "# Выведем типы данных и отобразим первые 5 строк датафрейма\n",
    "data_new_features.info()\n",
    "data_new_features.head()"
   ]
  },
  {
   "cell_type": "code",
   "execution_count": null,
   "metadata": {},
   "outputs": [],
   "source": [
    "# Создадим датафрейм для проведения теста\n",
    "df_test_mo = copy.deepcopy(data_new_features[['Муниципальное образование', 'Налоги долг']])\n",
    "# Выведем первые 5 строк датафрейма\n",
    "df_test_mo.head()"
   ]
  },
  {
   "cell_type": "markdown",
   "metadata": {},
   "source": [
    "<p style=\"font-family: Inter, sans-serif; font-size: 14px; color: rgba(0,0,0,.7)\">Проверим распределение на нормальность. Используем тест нормальности Андерсона-Дарлинга, так как он работает с большими выборками.</p>"
   ]
  },
  {
   "cell_type": "code",
   "execution_count": null,
   "metadata": {
    "code_folding": []
   },
   "outputs": [],
   "source": [
    "def normal_test(df, column_name, alpha):\n",
    "    \"\"\"\n",
    "        Функция, проверяющая распределение на нормальность\n",
    "\n",
    "    Аргументы функции:\n",
    "        df - датафрейм\n",
    "        column_name - нименование колонки для проверки нормальности распределения\n",
    "        alpha - уровень значимости\n",
    "\n",
    "    Возвращаемое значение:\n",
    "        Функция возвращает статистику критерия и p-value, \n",
    "        а также принятие или отклонение Н0.\n",
    "    \n",
    "    \"\"\"    \n",
    "    print('Тест нормальности Андерсона-Дарлинга:')\n",
    "    \n",
    "    # Проводим тест\n",
    "    stat, pval = normaltest(df[column_name])\n",
    "    \n",
    "    # Выводим статистику критерия и p-value\n",
    "    print('Statistic:', f'{stat:.3f}')\n",
    "    print('P-Value:', f'{pval:.10f}')\n",
    "    \n",
    "    # Проверяе условие для принятия или отклонения H0\n",
    "    if pval > alpha:\n",
    "        print('Принимаем Н0 - Данные распределены нормально.')\n",
    "    if pval < alpha:\n",
    "        print('Отклоняем Н0 - Данные распределены не нормально.')"
   ]
  },
  {
   "cell_type": "code",
   "execution_count": null,
   "metadata": {},
   "outputs": [],
   "source": [
    "normal_test(df_test_mo, 'Налоги долг', 0.05)"
   ]
  },
  {
   "cell_type": "markdown",
   "metadata": {},
   "source": [
    "<p style=\"font-family: Inter, sans-serif; font-size: 14px; color: rgba(0,0,0,.7)\">Признак 'Налоги долг' распределен не нормально. Учитывая данный факт для сравнение выборок будем использовать <strong>непараметрический критерий Краскела-Уоллиса.</strong></p>\n",
    "\n",
    "<p style=\"font-family: Inter, sans-serif; font-size: 14px; color: rgba(0,0,0,.7)\">Разобъем данные на 34 группы (так как в Приморском крае 34 муниципальных образования) для тестирования и проведем тест Краскела-Уоллиса.</p>"
   ]
  },
  {
   "cell_type": "code",
   "execution_count": null,
   "metadata": {
    "code_folding": []
   },
   "outputs": [],
   "source": [
    "def kruskalwallis_test(df, group_name, values, alpha):\n",
    "    \"\"\"\n",
    "        Функция, реализующая проведение\n",
    "        теста Краскела-Уоллиса\n",
    "\n",
    "    Аргументы функции:\n",
    "        df - датафрейм\n",
    "        group_name - нименование колонки с значениями для группировки\n",
    "        values - наименование колонки с непрерывной величиной\n",
    "        alpha - уровень значимости\n",
    "\n",
    "    Возвращаемое значение:\n",
    "        Функция возвращает статистику критерия и p-value, \n",
    "        а также принятие или отклонение Н0\n",
    "    \n",
    "    \"\"\"\n",
    "    # Создаем пустой словарь, куда поместим группы для тестирования\n",
    "    groups = {}\n",
    "    # На каждой итерации цикла берем уникальное название для последующей фильтрации\n",
    "    for grp in df[group_name].unique():\n",
    "        # Cоздаем ключ словаря присвоив ему название группы для тестирования\n",
    "        # передав значения, полученные в результате фильтрации датафрейма\n",
    "        # (фильтруем исходный датафрейм по названию ключа, оставив только соответствующме значения)\n",
    "        groups[grp] = df[values][df[group_name]==grp].values\n",
    "    \n",
    "    # Создаем тестовые группы, оставив только значения словаря\n",
    "    test_group = groups.values()    \n",
    "    \n",
    "    print('Тест Краскела-Уоллиса:')\n",
    "    # Проводим тест\n",
    "    H, pval = mstats.kruskalwallis(*test_group)\n",
    "    \n",
    "    # Выводим статистику критерия и p-value\n",
    "    print('H-statistic:', f'{H:.3f}')\n",
    "    print('P-Value:', f'{pval:.10f}')\n",
    "    \n",
    "    # Проверяе условие для принятия или отклонения H0\n",
    "    if pval > alpha:\n",
    "        print('Принимаем Н0 - Между группами нет значительных различий.')\n",
    "    if pval < alpha:\n",
    "        print('Отклоняем Н0 - Между группами существуют значительные различия.')"
   ]
  },
  {
   "cell_type": "code",
   "execution_count": null,
   "metadata": {},
   "outputs": [],
   "source": [
    "kruskalwallis_test(df_test_mo, 'Муниципальное образование', 'Налоги долг', 0.05 )"
   ]
  },
  {
   "cell_type": "markdown",
   "metadata": {},
   "source": [
    "<p style=\"font-family: Inter, sans-serif; font-size: 14px; color: rgba(0,0,0,.7)\">По итогам проведенного теста получены статистически значимые различия между медианными значениями (данный стат критерий проверяет равенство медианных значений в выборках, что так же является плюсом так как средние значения сильно завышены за счет естественных выбросов) по уплате налогов бизнесом в муниципальных образованиях Приморского края. Это потдтверждается критически низким значением p-value. Вероятность совершения ошибки первого рода равна 0.0000000074.</p>"
   ]
  },
  {
   "cell_type": "markdown",
   "metadata": {},
   "source": [
    "<p style=\"font-family: Inter, sans-serif; font-size: 14px; color: rgba(0,0,0,.7)\">Учитывая, что в данных присутствуют естественные выбросы они могли повлиять на результаты теста. Проверим данный факт. Уберем выбросы (оставим диапазон +- 3 сигмы (не смотря на то, что данное правило применимо к данным, распределенным нормально, используем его для создания диапазона) и повторим тестирование.</p>"
   ]
  },
  {
   "cell_type": "code",
   "execution_count": null,
   "metadata": {},
   "outputs": [],
   "source": [
    "# Считаем среднее\n",
    "m = df_test_mo.mean()\n",
    "# Считаем стандартное отклонение\n",
    "std = df_test_mo.std()\n",
    "# Считаем нижнюю границу\n",
    "lower_bound = int(round(m - (3 * std)))\n",
    "# Считаем верхнюю границу\n",
    "upper_bound = int(round(m + (3 * std)))\n",
    "# Создаем датафрейм без выбросов\n",
    "mo_remove_outliers = df_test_mo[df_test_mo['Налоги долг'].between(lower_bound,  # Указываем нижнюю границу\n",
    "                                                                  upper_bound)] # Указываем верхнюю границу\n",
    "print(f'Число записей всего {len(df_test_mo)} запись(ей).')\n",
    "print(f'Число записей без выбросов составляет {len(mo_remove_outliers)} запись(ей).')"
   ]
  },
  {
   "cell_type": "markdown",
   "metadata": {},
   "source": [
    "<p style=\"font-family: Inter, sans-serif; font-size: 14px; color: rgba(0,0,0,.7)\">Сравним статистики после удаления выбросов.</p>"
   ]
  },
  {
   "cell_type": "code",
   "execution_count": null,
   "metadata": {},
   "outputs": [],
   "source": [
    "print(f'Среднее до: {df_test_mo[\"Налоги долг\"].mean()} / Среднее после: {mo_remove_outliers[\"Налоги долг\"].mean()}')\n",
    "print(f'Медиана до: {df_test_mo[\"Налоги долг\"].median()} / Медиана после: {mo_remove_outliers[\"Налоги долг\"].median()}')\n",
    "print(f'Мода до: {df_test_mo[\"Налоги долг\"].mode()[0]} / Мода после: {mo_remove_outliers[\"Налоги долг\"].mode()[0]}')\n",
    "print(f'Стандартное отклонение до: {df_test_mo[\"Налоги долг\"].std()} / Стандартное отклонение после: {mo_remove_outliers[\"Налоги долг\"].std()}')\n",
    "print(f'Дисперсия до: {df_test_mo[\"Налоги долг\"].var()} / Дисперсия после: {mo_remove_outliers[\"Налоги долг\"].var()}')"
   ]
  },
  {
   "cell_type": "markdown",
   "metadata": {},
   "source": [
    "<p style=\"font-family: Inter, sans-serif; font-size: 14px; color: rgba(0,0,0,.7)\">После удаления выбросов значительно изменилось среднее. Это обусловленно удалением из даных экстемально высоких значений касательно неуплаты налогов, соответственно снизился разброс данных (стандартное отклонение и дисперсия). Медиана почти не изменилась, мода осталась неизменной. Так как критерий Краскела-Уоллиса проверяет равенство медианных значений в выборках удаление выбросов сильно не сказалось на изменении мер центральной тенденции, на основании которых проводится расчет, поэтому можно провести повторный тест по датафрейму без выбросов.</p>"
   ]
  },
  {
   "cell_type": "markdown",
   "metadata": {},
   "source": [
    "<p style=\"font-family: Inter, sans-serif; font-size: 14px; color: rgba(0,0,0,.7)\">Проверим полученное распределение на нормальность.</p"
   ]
  },
  {
   "cell_type": "code",
   "execution_count": null,
   "metadata": {},
   "outputs": [],
   "source": [
    "normal_test(mo_remove_outliers, 'Налоги долг', 0.05)"
   ]
  },
  {
   "cell_type": "markdown",
   "metadata": {},
   "source": [
    "<p style=\"font-family: Inter, sans-serif; font-size: 14px; color: rgba(0,0,0,.7)\">Снова разобъем данные на 34 группы и проведем тестирование.</p>\n",
    "<p style=\"font-family: Inter, sans-serif; font-size: 14px; color: rgba(0,0,0,.7)\">Н0 - Группы не отличаются.<br>Н1 - Группы имеют существенные отличия.</p>"
   ]
  },
  {
   "cell_type": "code",
   "execution_count": null,
   "metadata": {},
   "outputs": [],
   "source": [
    "kruskalwallis_test(mo_remove_outliers, 'Муниципальное образование', 'Налоги долг', 0.05 )"
   ]
  },
  {
   "cell_type": "markdown",
   "metadata": {},
   "source": [
    "<p style=\"font-family: Inter, sans-serif; font-size: 14px; color: rgba(0,0,0,.7)\">Проведя два теста по данным с выбросами и по данным, взятым в диапазоне +- 3 сигма установлено, что при частичном удалении выбросов вероятность получить статистически значимые различия в группах возрастает, но учитывая низкую вероятности совершения ошибки первого рода проводя тестирование на данных с выбросами, отчистка данных от выбросов в данном анализе не повлияла не результат.</p>\n",
    "\n",
    "\n",
    "<p style=\"font-family: Inter, sans-serif; font-size: 14px; color: rgba(0,0,0,.7)\"><strong><u>С выбросами:</u></strong></p>\n",
    "<p style=\"font-family: Inter, sans-serif; font-size: 14px; color: rgba(0,0,0,.7)\">H-statistic: 101.258<p>\n",
    "<p style=\"font-family: Inter, sans-serif; font-size: 14px; color: rgba(0,0,0,.7)\">P-Value: 0.0000000074<p>\n",
    "\n",
    "<p style=\"font-family: Inter, sans-serif; font-size: 14px; color: rgba(0,0,0,.7)\"><strong><u>+ - 3 сигмы:</u></strong></p>    \n",
    "<p style=\"font-family: Inter, sans-serif; font-size: 14px; color: rgba(0,0,0,.7)\">H-statistic: 103.747<p>\n",
    "<p style=\"font-family: Inter, sans-serif; font-size: 14px; color: rgba(0,0,0,.7)\">P-Value: 0.0000000031<p>"
   ]
  },
  {
   "cell_type": "markdown",
   "metadata": {},
   "source": [
    "<p style=\"font-family: Inter, sans-serif; font-size: 14px; color: rgba(0,0,0,.7)\"><strong><u>Вывод:</u></strong></p>\n",
    "<p style=\"font-family: Inter, sans-serif; font-size: 14px; color: rgba(0,0,0,.7)\">На основании проведенного теста можно сделать вывод, что все муниципальные образования Приморского края отличаются по уровню налоговой платежеспособности субъектов малого и среднего предпринимательства. Это подтверждается низким уровне p-value, полученным в ходе тестирования. Вероятность совершения ошибки первого рода равна 0.0000000074.</p>"
   ]
  },
  {
   "cell_type": "markdown",
   "metadata": {},
   "source": [
    "<p style=\"font-family: Inter, sans-serif; font-size: 14px; color: rgba(0,0,0,.7)\"><strong><u>2. В каких муниципальных образованиях наиболее низкий уровень налоговой платежеспособности?</u></strong></p>"
   ]
  },
  {
   "cell_type": "markdown",
   "metadata": {},
   "source": [
    "<p style=\"font-family: Inter, sans-serif; font-size: 14px; color: rgba(0,0,0,.7)\">Для того, чтобы ответить на данный вопрос, а также используя полученную информацию по результатам предидущего теста (установлены различия между муниципалитетами по уровню неуплаты налогов бизнесом) объединим муниципалитеты в следующие группы:</p>\n",
    "<ol style=\"font-family: Inter, sans-serif; font-size: 14px; color: rgba(0,0,0,.7)\">    \n",
    "<li><strong>low</strong> - медианная неуплата налога на одного предпринимателя меньше или равна 500 рублей.</li>\n",
    "<li><strong>medium</strong> - медианная неуплата налога на одного предпринимателя больше 500 рублей и меньше или равна 1500 рублей.</li>\n",
    "<li><strong>high</strong> - медианная неуплата налога на одного предпринимателя больше 1500 рублей.</li>\n",
    "</ol>"
   ]
  },
  {
   "cell_type": "markdown",
   "metadata": {},
   "source": [
    "<p style=\"font-family: Inter, sans-serif; font-size: 14px; color: rgba(0,0,0,.7)\">Создадим датафрейм с наименованием муниципального образования и медианным значением неуплаты налога в данном муниципалитете.</p>"
   ]
  },
  {
   "cell_type": "code",
   "execution_count": null,
   "metadata": {},
   "outputs": [],
   "source": [
    "# Группируем данные по мун образованиям, агрегируем данные по недоимке\n",
    "mo_median_pay = df_test_mo.groupby('Муниципальное образование').agg({'Налоги долг': ['median', 'count']}).reset_index()\n",
    "# Формируем новый датафрейм объединив информацию по мун образованиям и недоимке\n",
    "mo_merge = mo_median_pay['Муниципальное образование'].reset_index().merge(mo_median_pay['Налоги долг'].reset_index())\n",
    "# Удаляем столбец с индексом\n",
    "del mo_merge['index']\n",
    "# приводим данные по недоимке к целочисленному формату\n",
    "mo_merge['median'] = mo_merge['median'].astype('int64')\n",
    "# Сортируем данные по недоимке по убыванию\n",
    "mo_merge.sort_values('median', ascending=False)"
   ]
  },
  {
   "cell_type": "markdown",
   "metadata": {},
   "source": [
    "<p style=\"font-family: Inter, sans-serif; font-size: 14px; color: rgba(0,0,0,.7)\">Присвоим каждому муниципальному образованию принадлежность к одной из трех групп.</p>"
   ]
  },
  {
   "cell_type": "code",
   "execution_count": null,
   "metadata": {},
   "outputs": [],
   "source": [
    "mo_merge.loc[mo_merge['median'] <= 500, 'Категория'] = 'low'\n",
    "mo_merge.loc[(mo_merge['median'] > 500) & (mo_merge['median'] <= 1500) , 'Категория'] = 'medium'\n",
    "mo_merge.loc[mo_merge['median'] > 1500, 'Категория'] = 'high'"
   ]
  },
  {
   "cell_type": "code",
   "execution_count": null,
   "metadata": {},
   "outputs": [],
   "source": [
    "mo_merge.sort_values('median', ascending=False)"
   ]
  },
  {
   "cell_type": "markdown",
   "metadata": {},
   "source": [
    "<p style=\"font-family: Inter, sans-serif; font-size: 14px; color: rgba(0,0,0,.7)\">Посмотрим на распределения в группах.</p>"
   ]
  },
  {
   "cell_type": "code",
   "execution_count": null,
   "metadata": {},
   "outputs": [],
   "source": [
    "plt.figure(figsize=(28, 7))\n",
    "sns.boxplot(x='median', y='Категория', data=mo_merge)\n",
    "plt.show()"
   ]
  },
  {
   "cell_type": "markdown",
   "metadata": {},
   "source": [
    "<p style=\"font-family: Inter, sans-serif; font-size: 14px; color: rgba(0,0,0,.7)\">Визуально из построенных боксплотов видно отличие групп. Подтвердим это проведя тест. Сформулируем нулевую и альтернативную гипотезы.</p>"
   ]
  },
  {
   "cell_type": "markdown",
   "metadata": {},
   "source": [
    "<p style=\"font-family: Inter, sans-serif; font-size: 14px; color: rgba(0,0,0,.7)\">Разобъем данные на 3 группы и проведем тестирование.</p>\n",
    "<p style=\"font-family: Inter, sans-serif; font-size: 14px; color: rgba(0,0,0,.7)\">Н0 - Группы не отличаются.<br>Н1 - Группы имеют существенные отличия.</p>"
   ]
  },
  {
   "cell_type": "code",
   "execution_count": null,
   "metadata": {},
   "outputs": [],
   "source": [
    "kruskalwallis_test(mo_merge, 'Категория', 'median', 0.05)"
   ]
  },
  {
   "cell_type": "markdown",
   "metadata": {},
   "source": [
    "<p style=\"font-family: Inter, sans-serif; font-size: 14px; color: rgba(0,0,0,.7)\"><strong><u>Вывод:</u></strong></p>\n",
    "<p style=\"font-family: Inter, sans-serif; font-size: 14px; color: rgba(0,0,0,.7)\">На основании проведенного теста можно сделать вывод, что между группами low, medium и hight существуют различия по уровню налоговой платежеспособности субъектов малого и среднего предпринимательства. Это подтверждается низким уровнем p-value, полученным в ходе тестирования. Вероятность совершения ошибки первого рода равна 0.0000257215.</p>"
   ]
  },
  {
   "cell_type": "markdown",
   "metadata": {},
   "source": [
    "<p style=\"font-family: Inter, sans-serif; font-size: 14px; color: rgba(0,0,0,.7)\">Проведем еще одно тестирование, чтобы понять между какими конкретно группами существуют различия (возможно не все группы отличаются между собой). Воспользуемся непараметрическим апостериорным критерием Данна и сравним группы попарно. Кроме того в целях минимизации получить ошибку первого рода применим поправку Бонферрони и Холмса.</p>"
   ]
  },
  {
   "cell_type": "markdown",
   "metadata": {},
   "source": [
    "<p style=\"font-family: Inter, sans-serif; font-size: 14px; color: rgba(0,0,0,.7)\">Сравнение групп <strong>high</strong>, <strong>medium</strong> и <strong>low</strong>.</p>"
   ]
  },
  {
   "cell_type": "code",
   "execution_count": null,
   "metadata": {},
   "outputs": [],
   "source": [
    "pd.set_option('display.float_format', lambda x: '%.6f' % x)"
   ]
  },
  {
   "cell_type": "code",
   "execution_count": null,
   "metadata": {},
   "outputs": [],
   "source": [
    "print('Тест данна с поправкой Бонферрони:')\n",
    "sp.posthoc_dunn(mo_merge, val_col='median', group_col='Категория', p_adjust = 'bonferroni')"
   ]
  },
  {
   "cell_type": "code",
   "execution_count": null,
   "metadata": {},
   "outputs": [],
   "source": [
    "print('Тест данна с поправкой Холмса:')\n",
    "sp.posthoc_dunn(mo_merge, val_col='median', group_col='Категория', p_adjust = 'holm')"
   ]
  },
  {
   "cell_type": "markdown",
   "metadata": {},
   "source": [
    "<p style=\"font-family: Inter, sans-serif; font-size: 14px; color: rgba(0,0,0,.7)\"><strong><u>Вывод:</u></strong></p>\n",
    "<p style=\"font-family: Inter, sans-serif; font-size: 14px; color: rgba(0,0,0,.7)\">По результатам теста Данна полученные следующие результаты:</p>\n",
    "\n",
    "<p style=\"font-family: Inter, sans-serif; .font-size: 14px; color: rgba(0,0,0,.7)\">1. Скорректированное значение p-value для разницы между группами <strong>high</strong> и <strong>low</strong> составляет:<br>Бонферрони - 0.002300<br>Холмс - 0.001534</p>    \n",
    "\n",
    "<p style=\"font-family: Inter, sans-serif; .font-size: 14px; color: rgba(0,0,0,.7)\">2. Скорректированное значение p-value для разницы между группами <strong>high</strong> и <strong>medium</strong> составляет:<br>Бонферрони - 1.000000<br>Холмс - 0.466479</p>    \n",
    "\n",
    "<p style=\"font-family: Inter, sans-serif; .font-size: 14px; color: rgba(0,0,0,.7)\">3. Скорректированное значение p-value для разницы между группами <strong>low</strong> и <strong>medium</strong> составляет:<br>Бонферрони - 0.000862<br>Холмс - 0.000862</p>    \n",
    "\n",
    "<p style=\"font-family: Inter, sans-serif; .font-size: 14px; color: rgba(0,0,0,.7)\">Таким образом, группы, которые статистически значимо отличаются при α = 0,05, - это группы <strong>high и low</strong> и группы <strong>medium и low</strong></p>\n",
    "\n",
    "<p style=\"font-family: Inter, sans-serif; font-size: 14px; color: rgba(0,0,0,.7)\">Результаты проведенных тестов показали, что между муниципальными образованиями существуют группы, отличающиеся по уровню налоговой платежеспособности субъектов малого и среднего предпринимательства.</p>"
   ]
  },
  {
   "cell_type": "markdown",
   "metadata": {},
   "source": [
    "<p id=\"part9\"></p>\n",
    "\n",
    "<p style=\"font-family: Verdana; font-size: 16px; font-style: normal; font-weight: bold; letter-spacing: 3px; color: #00008B\">3 ИТОГОВЫЙ ВЫВОД ПО РЕЗУЛЬТАТАМ ПРОВЕДЕННОГО АНАЛИЗА </p>\n",
    "<hr style=\"height: 0.5px; border: 0; background-color: Gray\">\n",
    "\n",
    "<p style=\"font-family: Inter, sans-serif; font-size: 14px; color: rgba(0,0,0,.7)\">По результатам проведенного анализа удалось ответить на следующие вопросы:</p>\n",
    "\n",
    "<ol style=\"font-family: Inter, sans-serif; font-size: 14px; color: rgba(0,0,0,.7)\">    \n",
    "<li>Отличаются ли муниципальные образования по уровню налоговой платежеспособности у субъектов МСП?</li>\n",
    "<li>В каких муниципальных образованиях наиболее низкий уровень налоговой платежеспособности?</li>    \n",
    "</ol>\n",
    "\n",
    "<p style=\"font-family: Inter, sans-serif; font-size: 14px; color: rgba(0,0,0,.7)\">В ходе проведенного анализа установлено, что между муниципальными образованиями Приморского края существуют различия по уровню неуплаты налогов субъектами малого и среднего предпринимательства. В целях установления групп муниципалитетов по уровню неуплаты налогов бизнесом муниципальные образования были объединены в группы по медианному уровню неуплаты налогов на одного предпринимателя. В результате установлено:</p>\n",
    "\n",
    "<ol style=\"font-family: Inter, sans-serif; font-size: 14px; color: rgba(0,0,0,.7)\">    \n",
    "<li>В Лазовском, Анучинском, Шкотовском, Пожарском, Кавалеровском, Партизанском, Дальнереченском, Спасском, Пограничном районах, а также в городе Спасс-Дальний  наблюдается самая высокая недобросовестность бизнеса по уплате налоговых платежей. Данные муниципальтеты входят в группу high и medium. Медианная неуплата налога на одного предпринимателя в группе high составляет 3 686 рублей. Средняя неуплата налога на одного предпринимателя в группе medium составляет 907 рублей;</li>\n",
    "<p></p>\n",
    "<li>В Ольгинском, Хорольском, Михайловском, Кировском, Хасанском, Чугуевском, Надеждинском, Красноармейском, Тернейском, Ханкайском, Октябрьском, Черниговском, Яковлевском, а также в городах Фокино, Лесозаводске, Большом Камне, Партизанске, Находке, Дальнереченске, Артеме, Уссурийске, Владивостоке, Арсеньеве, Дальнегорске, работает самый добросовестный бизнес. Средняя неуплата налога на одного предпринимателя в данной группе муниципалитетов составляет 23 рубля.</li>\n",
    "</ol>\n",
    "\n",
    "<p style=\"font-family: Inter, sans-serif; font-size: 14px; color: rgba(0,0,0,.7)\">Таким образом, в муниципальных образованиях Приморского края входящих в группу high и medium осуществляет деятельность бизнес, либо плохо знающий налоговое законадательство, либо бизнес, целенаправлено не платящий налоги. При формировании годового плана обучающих мероприятий бизнеса налоговой грамотности стоит обратить внимание на данные категории муниципалитетов. Кроме того, в целях повышения уровня поступления налогов в консалидированный бюджет Приморского края, необходимо усилить налоговый контроль на данных территориях.</p>"
   ]
  },
  {
   "cell_type": "markdown",
   "metadata": {},
   "source": [
    "<p style=\"font-family: Inter, sans-serif; font-size: 14px; color: rgba(0,0,0,.7)\">Сформируем датасет для последующей визуализации в powe bi.</p>"
   ]
  },
  {
   "cell_type": "code",
   "execution_count": null,
   "metadata": {},
   "outputs": [],
   "source": [
    "mo_merge.to_csv('data_for_powebi.csv', encoding = 'utf-8')"
   ]
  },
  {
   "cell_type": "markdown",
   "metadata": {},
   "source": [
    "<a href=\"#part0\"><img src=\"https://i.ibb.co/d6BxNcg/image.png\" width=\"50\" height=\"50\" align=\"right\"></a>"
   ]
  }
 ],
 "metadata": {
  "celltoolbar": "Raw Cell Format",
  "hide_input": false,
  "kernelspec": {
   "display_name": "Python 3",
   "language": "python",
   "name": "python3"
  },
  "language_info": {
   "codemirror_mode": {
    "name": "ipython",
    "version": 3
   },
   "file_extension": ".py",
   "mimetype": "text/x-python",
   "name": "python",
   "nbconvert_exporter": "python",
   "pygments_lexer": "ipython3",
   "version": "3.8.3"
  },
  "varInspector": {
   "cols": {
    "lenName": 16,
    "lenType": 16,
    "lenVar": 40
   },
   "kernels_config": {
    "python": {
     "delete_cmd_postfix": "",
     "delete_cmd_prefix": "del ",
     "library": "var_list.py",
     "varRefreshCmd": "print(var_dic_list())"
    },
    "r": {
     "delete_cmd_postfix": ") ",
     "delete_cmd_prefix": "rm(",
     "library": "var_list.r",
     "varRefreshCmd": "cat(var_dic_list()) "
    }
   },
   "types_to_exclude": [
    "module",
    "function",
    "builtin_function_or_method",
    "instance",
    "_Feature"
   ],
   "window_display": false
  }
 },
 "nbformat": 4,
 "nbformat_minor": 4
}
