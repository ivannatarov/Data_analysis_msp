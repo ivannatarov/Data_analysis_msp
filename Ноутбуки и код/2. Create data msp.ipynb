{
 "cells": [
  {
   "cell_type": "markdown",
   "metadata": {},
   "source": [
    "<p id=\"part0\"></p>\n",
    "\n",
    "<p style=\"font-family: Verdana; line-height: 1.4;font-size: 24px; font-weight: bold; letter-spacing: 2px; text-align: center; color: #00008B\">Формирование итогового датасета</p>"
   ]
  },
  {
   "cell_type": "markdown",
   "metadata": {},
   "source": [
    "<p style=\"font-family: Verdana; font-size: 16px; font-style: normal; font-weight: bold; letter-spacing: 3px; color: #00008B; line-height:0.3\">СОДЕРЖАНИЕ</p>\n",
    "<hr style=\"height: 0.5px; border: 0; background-color: Gray; line-height:0.3\">\n",
    "\n",
    "<p style=\"text-indent: 1vw; font-family: Verdana; font-size: 14px; font-style: normal; font-weight: normal; letter-spacing: 2px; color: #00008B; line-height:0.3\"><a href=\"#part1\">0 Импортирование библиотек</a></p>\n",
    "<hr style=\"height: 0.5px; border: 0; background-color: Gray; line-height:0.3\">\n",
    "\n",
    "<p style=\"text-indent: 1vw; font-family: Verdana; font-size: 14px; font-style: normal; font-weight: normal; letter-spacing: 2px; color: #00008B; line-height:0.3\"><a href=\"#part2\">1 Загрузка реестра МСП</a></p>\n",
    "<hr style=\"height: 0.5px; border: 0; background-color: Gray; line-height:0.3\">\n",
    "\n",
    "<p style=\"text-indent: 1vw; font-family: Verdana; font-size: 14px; font-style: normal; font-weight: normal; letter-spacing: 2px; color: #00008B; line-height:0.3\"><a href=\"#part3\">2 Загрузка данных по доходам и расходам</a></p>\n",
    "<hr style=\"height: 0.5px; border: 0; background-color: Gray; line-height:0.3\">\n",
    "\n",
    "<p style=\"text-indent: 1vw; font-family: Verdana; font-size: 14px; font-style: normal; font-weight: normal; letter-spacing: 2px; color: #00008B; line-height:0.3\"><a href=\"#part4\">3 Загрузка данных по системам налогообложения</a></p>\n",
    "<hr style=\"height: 0.5px; border: 0; background-color: Gray; line-height:0.3\">\n",
    "\n",
    "<p style=\"text-indent: 1vw; font-family: Verdana; font-size: 14px; font-style: normal; font-weight: normal; letter-spacing: 2px; color: #00008B; line-height:0.3\"><a href=\"#part5\">4 Загрузка данных по неуплаченным налогам</a></p>\n",
    "<hr style=\"height: 0.5px; border: 0; background-color: Gray; line-height:0.3\">\n",
    "\n",
    "<p style=\"text-indent: 1vw; font-family: Verdana; font-size: 14px; font-style: normal; font-weight: normal; letter-spacing: 2px; color: #00008B; line-height:0.3\"><a href=\"#part6\">5 Загрузка данных по уплаченным налогам</a></p>\n",
    "<hr style=\"height: 0.5px; border: 0; background-color: Gray; line-height:0.3\">\n",
    "\n",
    "<p style=\"text-indent: 1vw; font-family: Verdana; font-size: 14px; font-style: normal; font-weight: normal; letter-spacing: 2px; color: #00008B; line-height:0.3\"><a href=\"#part7\">6 Загрузка данных по МСП без указания ОКВЭД</a></p>\n",
    "<hr style=\"height: 0.5px; border: 0; background-color: Gray; line-height:0.3\">\n",
    "\n",
    "<p style=\"text-indent: 1vw; font-family: Verdana; font-size: 14px; font-style: normal; font-weight: normal; letter-spacing: 2px; color: #00008B; line-height:0.3\"><a href=\"#part8\">7 Формирование итогового датасета</a></p>\n",
    "<hr style=\"height: 0.5px; border: 0; background-color: Gray; line-height:0.3\">"
   ]
  },
  {
   "cell_type": "markdown",
   "metadata": {},
   "source": [
    "<p id=\"part1\"></p>\n",
    "\n",
    "<p style=\"font-family: Verdana; font-size: 16px; font-style: normal; font-weight: bold; letter-spacing: 3px; color: #00008B\">0 ИМПОРТИРОВАНИЕ БИБЛИОТЕК</p>\n",
    "<hr style=\"height: 0.5px; border: 0; background-color: Gray\">"
   ]
  },
  {
   "cell_type": "code",
   "execution_count": null,
   "metadata": {},
   "outputs": [],
   "source": [
    "import pandas as pd\n",
    "import copy"
   ]
  },
  {
   "cell_type": "markdown",
   "metadata": {},
   "source": [
    "<p style=\"font-family: Inter, sans-serif; font-size: 14px; color: rgba(0,0,0,.7)\">Библиотека <strong>pandas</strong> потребуется для работы с данными в табличном представлении.</p>\n",
    "\n",
    "<p style=\"font-family: Inter, sans-serif; font-size: 14px; color: rgba(0,0,0,.7)\">Библиотека <strong>copy</strong> потребуется для создания глубоких копий объектов.</p>"
   ]
  },
  {
   "cell_type": "markdown",
   "metadata": {},
   "source": [
    "<p id=\"part2\"></p>\n",
    "\n",
    "<p style=\"font-family: Verdana; font-size: 16px; font-style: normal; font-weight: bold; letter-spacing: 3px; color: #00008B\">1 ЗАГРУЗКА РЕЕСТРА МСП</p>\n",
    "<hr style=\"height: 0.5px; border: 0; background-color: Gray\">\n",
    "\n",
    "<p style=\"font-family: Inter, sans-serif; font-size: 14px; color: rgba(0,0,0,.7)\">Загружаем ранее сформированный CSV файл, содержащий сведения о субъектах малого и среднего предпринимательства Приморского края.</p>"
   ]
  },
  {
   "cell_type": "code",
   "execution_count": null,
   "metadata": {
    "code_folding": []
   },
   "outputs": [],
   "source": [
    "# Создаем переменную names с названием колонок датафрейма\n",
    "names = ['Наименование МСП', 'ИНН', 'Код региона', 'Вид', 'Категория','Регион', \n",
    "         'Район', 'Город', 'Населенный пункт', 'Код ОКВЭД', 'Вид деятельности']\n",
    "# Создадим датафрейм\n",
    "df = pd.read_csv('reestr_msp_2019.csv', # Указываем название файла\n",
    "                  sep='[q]',            # Указываем разделитель\n",
    "                  encoding='utf-8',     # Указываем кодировку\n",
    "                  names=names,          # Передаем названия колонок\n",
    "                  engine='python')      # Выбираем движок (python, так как в нем реализованно \n",
    "                                        # указание регулярного выражения в качестве разделителя)\n",
    "# Выводим первые 5 строк датафрейма\n",
    "df.head()"
   ]
  },
  {
   "cell_type": "markdown",
   "metadata": {},
   "source": [
    "<p style=\"font-family: Inter, sans-serif; font-size: 14px; color: rgba(0,0,0,.7)\">В данном представлении данных не очень удобно работать, непонятно к какому муниципальному образованию принадлежит субъект малого и среднего предпринимательства (есть районы, городские округа, населенные пункты), а также непонятно к какому виду и категории относится субъект (вид 1 или вид 2, категория 1, 2 или 3).</p>\n",
    "\n",
    "<p style=\"font-family: Inter, sans-serif; font-size: 14px; color: rgba(0,0,0,.7)\">Создадим единую колонку с наименованием муниципального образования.</p>"
   ]
  },
  {
   "cell_type": "code",
   "execution_count": null,
   "metadata": {
    "code_folding": []
   },
   "outputs": [],
   "source": [
    "# Конкатенируем данные из двух колонок\n",
    "df['Муниципальное образование'] = df['Район'] + df['Город']"
   ]
  },
  {
   "cell_type": "markdown",
   "metadata": {},
   "source": [
    "<p style=\"font-family: Inter, sans-serif; font-size: 14px; color: rgba(0,0,0,.7)\">Выведем в принт содержание созданной колонки.</p>"
   ]
  },
  {
   "cell_type": "code",
   "execution_count": null,
   "metadata": {
    "code_folding": []
   },
   "outputs": [],
   "source": [
    "# Используем set, чтобы оставить только уникальные значения\n",
    "set(df['Муниципальное образование']) "
   ]
  },
  {
   "cell_type": "markdown",
   "metadata": {},
   "source": [
    "<p style=\"font-family: Inter, sans-serif; font-size: 14px; color: rgba(0,0,0,.7)\">Как можно заметить данные имеют разное написание (что приводит к дублированию) и появились пробелы (чуть позднее все приведем к одному виду). Кроме района и города в датафрейме также есть данные о населенных пунктах, которые необходимо конвертировать в муниципальное образование.</p>"
   ]
  },
  {
   "cell_type": "code",
   "execution_count": null,
   "metadata": {},
   "outputs": [],
   "source": [
    "set(df['Населенный пункт'])"
   ]
  },
  {
   "cell_type": "markdown",
   "metadata": {},
   "source": [
    "<p style=\"font-family: Inter, sans-serif; font-size: 14px; color: rgba(0,0,0,.7)\">Добавим с помощью фильтрации каждому населенному пункту принадлежность к муниципальному образованию и запишем все в созданную ранее колонку с наименованием муниципального образования к которому принадлежит субъект малого и среднего предпринимательства Приморсеого края.</p>"
   ]
  },
  {
   "cell_type": "code",
   "execution_count": null,
   "metadata": {},
   "outputs": [],
   "source": [
    "# Если в колонке населенный пункт встречается ПОСЕЛОК ГОРОДСКОГО ТИПА ПОГРАНИЧНЫЙ, то в колонку муниципальное\n",
    "# образование записываем РАЙОН ПОГРАНИЧНЫЙ и так дальше по аналогии\n",
    "df.loc[df['Населенный пункт'] == 'ПОСЕЛОК ГОРОДСКОГО ТИПА ПОГРАНИЧНЫЙ', 'Муниципальное образование'] = 'РАЙОН ПОГРАНИЧНЫЙ'\n",
    "df.loc[df['Населенный пункт'] == 'ПОСЕЛОК ГОРОДСКОГО ТИПА СЛАВЯНКА', 'Муниципальное образование'] = 'РАЙОН ХАСАНСКИЙ'\n",
    "df.loc[df['Населенный пункт'] == 'СЕЛО ВЛАДИМИРО-АЛЕКСАНДРОВСКОЕ', 'Муниципальное образование'] = 'РАЙОН ПАРТИЗАНСКИЙ'\n",
    "df.loc[df['Населенный пункт'] == 'СЕЛО ВОЛЬНО-НАДЕЖДИНСКОЕ', 'Муниципальное образование'] = 'РАЙОН НАДЕЖДИНСКИЙ'\n",
    "df.loc[df['Населенный пункт'] == 'СЕЛО ЧУГУЕВКА', 'Муниципальное образование'] = 'РАЙОН ЧУГУЕВСКИЙ'\n",
    "df.loc[df['Населенный пункт'].isin(['СЕЛО ГЛАЗОВКА', \n",
    "                                    'СЕЛО ИЛЬМОВКА', \n",
    "                                    'СЕЛО ИННОКЕНТЬЕВКА', \n",
    "                                    'СЕЛО ЛЕСНОЕ', \n",
    "                                    'СЕЛО НЕВСКОЕ', \n",
    "                                    'СЕЛО ПАНТЕЛЕЙМОНОВКА', \n",
    "                                    'СЕЛО ПОЛЕВОЕ', \n",
    "                                    'СЕЛО РУЖИНО', \n",
    "                                    'СЕЛО ТАМГА',\n",
    "                                    'СЕЛО ФИЛАРЕТОВКА']), 'Муниципальное образование'] = 'ГОРОД ЛЕСОЗАВОДСК'"
   ]
  },
  {
   "cell_type": "markdown",
   "metadata": {},
   "source": [
    "<p style=\"font-family: Inter, sans-serif; font-size: 14px; color: rgba(0,0,0,.7)\">Уберем пробелы и приведем данные к верхнему регистру.</p>"
   ]
  },
  {
   "cell_type": "code",
   "execution_count": null,
   "metadata": {},
   "outputs": [],
   "source": [
    "# str.strip() - убирает пробелы\n",
    "# str.upper() - приводит к верхнему регистру\n",
    "df['Муниципальное образование'] = df['Муниципальное образование'].str.strip().str.upper()"
   ]
  },
  {
   "cell_type": "code",
   "execution_count": null,
   "metadata": {},
   "outputs": [],
   "source": [
    "set(df['Муниципальное образование'])"
   ]
  },
  {
   "cell_type": "markdown",
   "metadata": {},
   "source": [
    "<p style=\"font-family: Inter, sans-serif; font-size: 14px; color: rgba(0,0,0,.7)\">Сделаем проверку, по всем ли муниципальным образованиям содержится информация. Всего в Приморском крае 34 муниципальных образований.</p>"
   ]
  },
  {
   "cell_type": "code",
   "execution_count": null,
   "metadata": {},
   "outputs": [],
   "source": [
    "if len(set(df[\"Муниципальное образование\"])) == 34:\n",
    "    print('Данные содержат информацию по всем муниципальным образованиям')\n",
    "else:\n",
    "    print('Данные содержат информацию не по всем муниципальным образованиям')"
   ]
  },
  {
   "cell_type": "markdown",
   "metadata": {},
   "source": [
    "<p style=\"font-family: Inter, sans-serif; font-size: 14px; color: rgba(0,0,0,.7)\">Также отформатируем колонки Вид и Категория, присвоив нужные значения (можно сверить с данными единого реестра субъектов малого и среднего предпринимательства на сайте www.nalog.ru).</p>"
   ]
  },
  {
   "cell_type": "code",
   "execution_count": null,
   "metadata": {},
   "outputs": [],
   "source": [
    "# Виду 1 присвоим вид МСП юридическое лицо\n",
    "df.loc[df['Вид'] == 'Вид 1', 'Вид'] = 'Юридическое лицо'\n",
    "# Виду 2 присвоим вид МСП индивидуальный предприниматель\n",
    "df.loc[df['Вид'] == 'Вид 2', 'Вид'] = 'Индивидуальный предприниматель'\n",
    "# Категории 1 присвоим категорию микропредприятие\n",
    "df.loc[df['Категория'] == 'Категория 1', 'Категория'] = 'Микропредприятие'\n",
    "# Категории 2 присвоим категорию малое предприятие\n",
    "df.loc[df['Категория'] == 'Категория 2', 'Категория'] = 'Малое предприятие'\n",
    "# Категории 3 присвоим категорию среднее предприятие\n",
    "df.loc[df['Категория'] == 'Категория 3', 'Категория'] = 'Среднее предприятие'"
   ]
  },
  {
   "cell_type": "markdown",
   "metadata": {},
   "source": [
    "<p style=\"font-family: Inter, sans-serif; font-size: 14px; color: rgba(0,0,0,.7)\">Выведем датафрейм.</p>"
   ]
  },
  {
   "cell_type": "code",
   "execution_count": null,
   "metadata": {},
   "outputs": [],
   "source": [
    "df.head()"
   ]
  },
  {
   "cell_type": "markdown",
   "metadata": {},
   "source": [
    "<p style=\"font-family: Inter, sans-serif; font-size: 14px; color: rgba(0,0,0,.7)\">Уберем лишние данные (данные, которые в дальнейшем не несут никакой ценности). Для удобства выведем название колонок.</p>"
   ]
  },
  {
   "cell_type": "code",
   "execution_count": null,
   "metadata": {},
   "outputs": [],
   "source": [
    "df.columns"
   ]
  },
  {
   "cell_type": "code",
   "execution_count": null,
   "metadata": {},
   "outputs": [],
   "source": [
    "# Создадим новый датафрейм, оставив нужные колонки\n",
    "reestr = df[['Наименование МСП', \n",
    "             'ИНН', \n",
    "             'Муниципальное образование', \n",
    "             'Вид', \n",
    "             'Категория', \n",
    "             'Код ОКВЭД', \n",
    "             'Вид деятельности']]\n",
    "reestr.head()"
   ]
  },
  {
   "cell_type": "markdown",
   "metadata": {},
   "source": [
    "<p style=\"font-family: Inter, sans-serif; font-size: 14px; color: rgba(0,0,0,.7)\">Сделаем проверку, все ли данные на месте, нет ли ошибок в наименованиях муниципалитетов.</p>"
   ]
  },
  {
   "cell_type": "code",
   "execution_count": null,
   "metadata": {},
   "outputs": [],
   "source": [
    "# Создадим сводную таблицу\n",
    "# Сгруппируем данные по наименованию муниципалитета\n",
    "# В значение считаем количество субъектов МСП\n",
    "# Сортируем данные по убыванию\n",
    "pivot = reestr.groupby('Муниципальное образование').count()['Наименование МСП']\\\n",
    "                                                   .reset_index()\\\n",
    "                                                   .sort_values('Наименование МСП', ascending=False)\n",
    "pivot"
   ]
  },
  {
   "cell_type": "code",
   "execution_count": null,
   "metadata": {},
   "outputs": [],
   "source": [
    "# Считаем количество субъектов МСП (должно быть 84 335)\n",
    "print(f'Данные содержат информацию о {sum(pivot[\"Наименование МСП\"])} субъектов МСП.')"
   ]
  },
  {
   "cell_type": "markdown",
   "metadata": {},
   "source": [
    "<p id=\"part3\"></p>\n",
    "\n",
    "<p style=\"font-family: Verdana; font-size: 16px; font-style: normal; font-weight: bold; letter-spacing: 3px; color: #00008B\">2 ЗАГРУЗКА ДАННЫХ ПО ДОХОДАМ И РАСХОДАМ</p>\n",
    "<hr style=\"height: 0.5px; border: 0; background-color: Gray\">\n",
    "\n",
    "<p style=\"font-family: Inter, sans-serif; font-size: 14px; color: rgba(0,0,0,.7)\">Загружаем ранее сформированный CSV файл, содержащий сведения о доходах и расходах субъектов малого и среднего предпринимательства Приморского края.</p>"
   ]
  },
  {
   "cell_type": "code",
   "execution_count": null,
   "metadata": {},
   "outputs": [],
   "source": [
    "# Создаем переменную names_2 с названиями колонок\n",
    "names_2 = ['Наименование МСП', 'ИНН', 'Доход', 'Расход']\n",
    "\n",
    "# Создадим датафрейм\n",
    "company_revenue = pd.read_csv('company_revenue_2019.csv', # Указываем название файла\n",
    "                  sep='[q]',                              # Указываем разделитель\n",
    "                  encoding='utf-8',                       # Указываем кодировку\n",
    "                  names=names_2,                          # Передаем названия колонок\n",
    "                  engine='python')                        # Выбираем движок (python, так как в нем реализованно \n",
    "                                                          # указание регулярного выражения в качестве разделителя)\n",
    "# Выводим первые пять строк\n",
    "company_revenue.head()"
   ]
  },
  {
   "cell_type": "markdown",
   "metadata": {},
   "source": [
    "<p style=\"font-family: Inter, sans-serif; font-size: 14px; color: rgba(0,0,0,.7)\">Сформируем датафрейм для последующего объединения с реестром.</p>"
   ]
  },
  {
   "cell_type": "code",
   "execution_count": null,
   "metadata": {},
   "outputs": [],
   "source": [
    "company_revenue = company_revenue[['ИНН', 'Доход', 'Расход']]\n",
    "company_revenue.head()"
   ]
  },
  {
   "cell_type": "markdown",
   "metadata": {},
   "source": [
    "<p style=\"font-family: Inter, sans-serif; font-size: 14px; color: rgba(0,0,0,.7)\">Выведем количество записей в датафрейме.</p>"
   ]
  },
  {
   "cell_type": "code",
   "execution_count": null,
   "metadata": {},
   "outputs": [],
   "source": [
    "print(f'Данные содержат {len(company_revenue)} запись(ей).')"
   ]
  },
  {
   "cell_type": "markdown",
   "metadata": {},
   "source": [
    "<p id=\"part4\"></p>\n",
    "\n",
    "<p style=\"font-family: Verdana; font-size: 16px; font-style: normal; font-weight: bold; letter-spacing: 3px; color: #00008B\">3 ЗАГРУЗКА ДАННЫХ ПО СИСТЕМАМ НАЛОГООБЛОЖЕНИЯ</p>\n",
    "<hr style=\"height: 0.5px; border: 0; background-color: Gray\">\n",
    "\n",
    "<p style=\"font-family: Inter, sans-serif; font-size: 14px; color: rgba(0,0,0,.7)\">Загружаем ранее сформированный CSV файл, содержащий сведения о системах налогообложения, применяющихся субъектами малого и среднего предпринимательства Приморского края.</p>"
   ]
  },
  {
   "cell_type": "code",
   "execution_count": null,
   "metadata": {},
   "outputs": [],
   "source": [
    "# Создаем переменную names_3 с названиями колонок\n",
    "names_3 = ['Наименование МСП', 'ИНН', 'ЕСХН', 'УСН', 'ЕНВД', 'СРП']\n",
    "\n",
    "# Создадим датафрейм\n",
    "company_tax_regime = pd.read_csv('company_tax_regime_2019.csv', # Указываем название файла\n",
    "                  sep='[q]',                                    # Указываем разделитель\n",
    "                  encoding='utf-8',                             # Указываем кодировку\n",
    "                  names=names_3,                                # Передаем названия колонок\n",
    "                  engine='python')                              # Выбираем движок (python, так как в нем реализованно \n",
    "                                                                # указание регулярного выражения в качестве разделителя)\n",
    "# Выводим первые пять строк    \n",
    "company_tax_regime.head()"
   ]
  },
  {
   "cell_type": "markdown",
   "metadata": {},
   "source": [
    "<p style=\"font-family: Inter, sans-serif; font-size: 14px; color: rgba(0,0,0,.7)\">Сформируем датафрейм для последующего объединения с реестром.</p>"
   ]
  },
  {
   "cell_type": "code",
   "execution_count": null,
   "metadata": {},
   "outputs": [],
   "source": [
    "company_tax_regime = company_tax_regime[['ИНН', 'ЕСХН', 'УСН', 'ЕНВД', 'СРП']]\n",
    "company_tax_regime.head()"
   ]
  },
  {
   "cell_type": "markdown",
   "metadata": {},
   "source": [
    "<p style=\"font-family: Inter, sans-serif; font-size: 14px; color: rgba(0,0,0,.7)\">Выведем количество записей в датафрейме.</p>"
   ]
  },
  {
   "cell_type": "code",
   "execution_count": null,
   "metadata": {},
   "outputs": [],
   "source": [
    "print(f'Данные содержат {len(company_tax_regime)} запись(ей).')"
   ]
  },
  {
   "cell_type": "markdown",
   "metadata": {},
   "source": [
    "<p id=\"part5\"></p>\n",
    "\n",
    "<p style=\"font-family: Verdana; font-size: 16px; font-style: normal; font-weight: bold; letter-spacing: 3px; color: #00008B\">4 ЗАГРУЗКА ДАННЫХ ПО НЕУПЛАЧЕННЫМ НАЛОГАМ</p>\n",
    "<hr style=\"height: 0.5px; border: 0; background-color: Gray\">\n",
    "\n",
    "<p style=\"font-family: Inter, sans-serif; font-size: 14px; color: rgba(0,0,0,.7)\">Загружаем ранее сформированный CSV файл, содержащий сведения о неуплаченных суммах налога субъектами малого и среднего предпринимательства Приморского края.</p>"
   ]
  },
  {
   "cell_type": "code",
   "execution_count": null,
   "metadata": {},
   "outputs": [],
   "source": [
    "# Создаем переменную names_4 с названиями колонок\n",
    "names_4 = ['Наименование МСП', 'ИНН', 'Налог', 'СумНедНалог', 'СумПени', 'СумШтраф', 'ОбщСумНедоим']\n",
    "\n",
    "# Создадим датафрейм\n",
    "df_2 = pd.read_csv('msp_arrears_2019.csv', # Указываем название файла\n",
    "                  sep='[q]',               # Указываем разделитель\n",
    "                  encoding='utf-8',        # Указываем кодировку\n",
    "                  names=names_4,           # Передаем названия колонок\n",
    "                  engine='python')         # Выбираем движок (python, так как в нем реализованно \n",
    "                                           # указание регулярного выражения в качестве разделителя)\n",
    "# Выводим первые пять строк\n",
    "df_2.head()"
   ]
  },
  {
   "cell_type": "markdown",
   "metadata": {},
   "source": [
    "<p style=\"font-family: Inter, sans-serif; font-size: 14px; color: rgba(0,0,0,.7)\">Сформируем датафрейм для последующего объединения с реестром.</p>"
   ]
  },
  {
   "cell_type": "code",
   "execution_count": null,
   "metadata": {},
   "outputs": [],
   "source": [
    "# Создадим сводную таблицу\n",
    "# Групируем данные по ИНН\n",
    "# В значение считаем сумму недоимки\n",
    "msp_arrears = df_2.pivot_table(\n",
    "                        index='ИНН', \n",
    "                        columns='Налог', \n",
    "                        values='ОбщСумНедоим', \n",
    "                        aggfunc=sum).fillna(0).reset_index()\n",
    "msp_arrears.head()"
   ]
  },
  {
   "cell_type": "markdown",
   "metadata": {},
   "source": [
    "<p style=\"font-family: Inter, sans-serif; font-size: 14px; color: rgba(0,0,0,.7)\">Переименуем название колонок. Выведем для удобства текущие названия колонок.</p>"
   ]
  },
  {
   "cell_type": "code",
   "execution_count": null,
   "metadata": {},
   "outputs": [],
   "source": [
    "msp_arrears.columns"
   ]
  },
  {
   "cell_type": "code",
   "execution_count": null,
   "metadata": {},
   "outputs": [],
   "source": [
    "msp_arrears.columns = ['ИНН', \n",
    "                       'Акцизы н', \n",
    "                       'Водный налог н',\n",
    "                       'ЕНВД н',\n",
    "                       'ЕСХН н',\n",
    "                       'Задолженность и перерасчеты по отмененным налогам н',\n",
    "                       'Земельный налог н',\n",
    "                       'Неналоговые доходы, администрируемые налоговыми органами н',\n",
    "                       'НДС н',\n",
    "                       'НДПИ н',\n",
    "                       'НДФЛ н', \n",
    "                       'Налог на имущество организаций н',\n",
    "                       'Налог на прибыль н',\n",
    "                       'УСН н',\n",
    "                       'Сборы за пользование объектами животного мира и за пользование объектами ВБР н',\n",
    "                       'Страховые взносы мед н',\n",
    "                       'Страховые взносы соц н',\n",
    "                       'Страховые и другие взносы пенс н',\n",
    "                       'Торговый сбор н', \n",
    "                       'Транспортный налог н']\n",
    "msp_arrears.head()"
   ]
  },
  {
   "cell_type": "markdown",
   "metadata": {},
   "source": [
    "<p style=\"font-family: Inter, sans-serif; font-size: 14px; color: rgba(0,0,0,.7)\">Выведем количество записей в датафрейме.</p>"
   ]
  },
  {
   "cell_type": "code",
   "execution_count": null,
   "metadata": {},
   "outputs": [],
   "source": [
    "print(f'Данные содержат {len(msp_arrears)} запись(ей).')"
   ]
  },
  {
   "cell_type": "markdown",
   "metadata": {},
   "source": [
    "<p id=\"part6\"></p>\n",
    "\n",
    "<p style=\"font-family: Verdana; font-size: 16px; font-style: normal; font-weight: bold; letter-spacing: 3px; color: #00008B\">5 ЗАГРУЗКА ДАННЫХ ПО УПЛАЧЕННЫМ НАЛОГАМ</p>\n",
    "<hr style=\"height: 0.5px; border: 0; background-color: Gray\">\n",
    "\n",
    "<p style=\"font-family: Inter, sans-serif; font-size: 14px; color: rgba(0,0,0,.7)\">Загружаем ранее сформированный CSV файл, содержащий сведения об уплаченных суммах налогов субъектми малого и среднего предпринимательства Приморского края.</p>"
   ]
  },
  {
   "cell_type": "code",
   "execution_count": null,
   "metadata": {},
   "outputs": [],
   "source": [
    "# Создаем переменную names_5 с названиями колонок\n",
    "names_5 = ['Наименование МСП', 'ИНН', 'Налог', 'СумУплНал']\n",
    "\n",
    "# Создадим датафрейм\n",
    "df_3 = pd.read_csv('msp_tax_2019.csv', # Указываем название файла\n",
    "                  sep='[q]',           # Указываем разделитель\n",
    "                  encoding='utf-8',    # Указываем кодировку\n",
    "                  names=names_5,       # Передаем названия колонок\n",
    "                  engine='python')     # Выбираем движок (python, так как в нем реализованно \n",
    "                                       # указание регулярного выражения в качестве разделителя)\n",
    "# Выводим первые пять строк\n",
    "df_3.head()"
   ]
  },
  {
   "cell_type": "markdown",
   "metadata": {},
   "source": [
    "<p style=\"font-family: Inter, sans-serif; font-size: 14px; color: rgba(0,0,0,.7)\">Сформируем датафрейм для последующего объединения с реестром.</p>"
   ]
  },
  {
   "cell_type": "code",
   "execution_count": null,
   "metadata": {},
   "outputs": [],
   "source": [
    "# Создадим сводную таблицу\n",
    "# Групируем данные по ИНН\n",
    "# В значение считаем сумму уплаченного налога\n",
    "msp_tax = df_3.pivot_table(\n",
    "                        index='ИНН', \n",
    "                        columns='Налог', \n",
    "                        values='СумУплНал', \n",
    "                        aggfunc=sum).fillna(0).reset_index()\n",
    "msp_tax.head()"
   ]
  },
  {
   "cell_type": "markdown",
   "metadata": {},
   "source": [
    "<p style=\"font-family: Inter, sans-serif; font-size: 14px; color: rgba(0,0,0,.7)\">Переименуем название колонок. Выведем для удобства текущие названия колонок.</p>"
   ]
  },
  {
   "cell_type": "code",
   "execution_count": null,
   "metadata": {},
   "outputs": [],
   "source": [
    "msp_tax.columns"
   ]
  },
  {
   "cell_type": "code",
   "execution_count": null,
   "metadata": {},
   "outputs": [],
   "source": [
    "msp_tax.columns = ['ИНН', \n",
    "                   'Акцизы у', \n",
    "                   'Водный налог у',\n",
    "                   'ЕНВД у',\n",
    "                   'ЕСХН у',\n",
    "                   'Задолженность и перерасчеты по отмененным налогам у',\n",
    "                   'Земельный налог у',\n",
    "                   'Неналоговые доходы, администрируемые налоговыми органами у',\n",
    "                   'НДС у',\n",
    "                   'НДПИ у',\n",
    "                   'НДФЛ у', \n",
    "                   'Налог на игорный бизнес у',\n",
    "                   'Налог на имущество организаций у',\n",
    "                   'Налог на прибыль у',\n",
    "                   'УСН у',\n",
    "                   'Сборы за пользование объектами животного мира и за пользование объектами ВБР у',\n",
    "                   'Страховые взносы мед у',\n",
    "                   'Страховые взносы соц у',\n",
    "                   'Страховые и другие взносы пенс у',\n",
    "                   'Торговый сбор у', \n",
    "                   'Транспортный налог у',\n",
    "                   'Утилизационный сбор у']\n",
    "msp_tax.head()"
   ]
  },
  {
   "cell_type": "markdown",
   "metadata": {},
   "source": [
    "<p style=\"font-family: Inter, sans-serif; font-size: 14px; color: rgba(0,0,0,.7)\">Выведем количество записей в датафрейме.</p>"
   ]
  },
  {
   "cell_type": "code",
   "execution_count": null,
   "metadata": {},
   "outputs": [],
   "source": [
    "print(f'Данные содержат {len(msp_tax)} запись(ей).')"
   ]
  },
  {
   "cell_type": "markdown",
   "metadata": {},
   "source": [
    "<p id=\"part7\"></p>\n",
    "\n",
    "<p style=\"font-family: Verdana; font-size: 16px; font-style: normal; font-weight: bold; letter-spacing: 3px; color: #00008B\">6 ЗАГРУЗКА ДАННЫХ ПО МСП БЕЗ УКАЗАНИЯ ОКВЭД</p>\n",
    "<hr style=\"height: 0.5px; border: 0; background-color: Gray\">\n",
    "\n",
    "<p style=\"font-family: Inter, sans-serif; font-size: 14px; color: rgba(0,0,0,.7)\">Загружаем ранее сформированный CSV файл, содержащий сведения о субъектах малого и среднего предпринимательства Приморского края, у которых не указан основной вид деятельности.</p>"
   ]
  },
  {
   "cell_type": "code",
   "execution_count": null,
   "metadata": {},
   "outputs": [],
   "source": [
    "# Создаем переменную names_5 с названиями колонок\n",
    "names_6 = ['Наименование МСП', 'ИНН', 'Признак']\n",
    "\n",
    "# Создадим датафрейм\n",
    "activity_list = pd.read_csv('activity_list.csv', # Указываем название файла\n",
    "                  sep='[q]',                     # Указываем разделитель\n",
    "                  encoding='utf-8',              # Указываем кодировку\n",
    "                  names=names_6,                 # Передаем названия колонок\n",
    "                  engine='python')               # Выбираем движок (python, так как в нем реализованно \n",
    "                                                 # указание регулярного выражения в качестве разделителя)\n",
    "# Выводим первые пять строк\n",
    "activity_list.head()"
   ]
  },
  {
   "cell_type": "markdown",
   "metadata": {},
   "source": [
    "<p style=\"font-family: Inter, sans-serif; font-size: 14px; color: rgba(0,0,0,.7)\">Сформируем датафрейм для последующего объединения с реестром.</p>"
   ]
  },
  {
   "cell_type": "code",
   "execution_count": null,
   "metadata": {},
   "outputs": [],
   "source": [
    "activity_list = activity_list[['ИНН', 'Признак']]\n",
    "activity_list.head()"
   ]
  },
  {
   "cell_type": "markdown",
   "metadata": {},
   "source": [
    "<p style=\"font-family: Inter, sans-serif; font-size: 14px; color: rgba(0,0,0,.7)\">Выведем количество записей в датафрейме.</p>"
   ]
  },
  {
   "cell_type": "code",
   "execution_count": null,
   "metadata": {},
   "outputs": [],
   "source": [
    "print(f'Данные содержат {len(activity_list)} запись(ей).')"
   ]
  },
  {
   "cell_type": "markdown",
   "metadata": {},
   "source": [
    "<p id=\"part8\"></p>\n",
    "\n",
    "<p style=\"font-family: Verdana; font-size: 16px; font-style: normal; font-weight: bold; letter-spacing: 3px; color: #00008B\">7 ФОРМИРОВАНИЕ ИТОГОВОГО ДАТАСЕТА</p>\n",
    "<hr style=\"height: 0.5px; border: 0; background-color: Gray\">\n",
    "\n",
    "<p style=\"font-family: Inter, sans-serif; font-size: 14px; color: rgba(0,0,0,.7)\">Соберем все данные в единый датасет.</p>"
   ]
  },
  {
   "cell_type": "code",
   "execution_count": null,
   "metadata": {},
   "outputs": [],
   "source": [
    "# Создадм единый датафрейм\n",
    "data = reestr.merge(company_revenue, how='left')\\\n",
    "                   .merge(company_tax_regime, how='left')\\\n",
    "                   .merge(msp_arrears, how='left')\\\n",
    "                   .merge(msp_tax, how='left')\\\n",
    "                   .merge(activity_list, how='left')\n",
    "# Выводим первые пять строк\n",
    "data.head()"
   ]
  },
  {
   "cell_type": "markdown",
   "metadata": {},
   "source": [
    "<p style=\"font-family: Inter, sans-serif; font-size: 14px; color: rgba(0,0,0,.7)\">Проверим, все ли даные корректно попали в итоговый датафрейм.</p>"
   ]
  },
  {
   "cell_type": "code",
   "execution_count": null,
   "metadata": {},
   "outputs": [],
   "source": [
    "data.info()"
   ]
  },
  {
   "cell_type": "markdown",
   "metadata": {},
   "source": [
    "<p style=\"font-family: Inter, sans-serif; font-size: 14px; color: rgba(0,0,0,.7)\">Разделим датафрейм на два (создадим глубокие копии датафрейма). Один будет содержать информацию по юридическим лицам второй по индивидуальным предпринимателям.</p>"
   ]
  },
  {
   "cell_type": "code",
   "execution_count": null,
   "metadata": {},
   "outputs": [],
   "source": [
    "legal_entity = copy.deepcopy(data[data['Вид'] == 'Юридическое лицо'])\n",
    "entrepreneur = copy.deepcopy(data[data['Вид'] == 'Индивидуальный предприниматель'])"
   ]
  },
  {
   "cell_type": "markdown",
   "metadata": {},
   "source": [
    "<p style=\"font-family: Inter, sans-serif; font-size: 14px; color: rgba(0,0,0,.7)\">Посмотрим еще раз на данные.</p>"
   ]
  },
  {
   "cell_type": "code",
   "execution_count": null,
   "metadata": {},
   "outputs": [],
   "source": [
    "legal_entity.info()"
   ]
  },
  {
   "cell_type": "code",
   "execution_count": null,
   "metadata": {},
   "outputs": [],
   "source": [
    "entrepreneur.info()"
   ]
  },
  {
   "cell_type": "markdown",
   "metadata": {},
   "source": [
    "<p style=\"font-family: Inter, sans-serif; font-size: 14px; color: rgba(0,0,0,.7)\">Так как в итоговом датафрейме информация по индивидуальни предпринимателям в большинстве отсутствует, будем проводить последующий анализ по данным о юридических лицах. Кроме того приведем информацию по видам деятельности в соответствие. У субъектов малого и среднего предпринимательства, где основной вид экономической деятельности не указан проставим соответствующий признак.</p>"
   ]
  },
  {
   "cell_type": "code",
   "execution_count": null,
   "metadata": {},
   "outputs": [],
   "source": [
    "legal_entity.loc[legal_entity['Признак'] == 'Оквэд не указан', 'Код ОКВЭД'] = 'Не указан'\n",
    "legal_entity.loc[legal_entity['Признак'] == 'Оквэд не указан', 'Вид деятельности'] = 'Не указан'"
   ]
  },
  {
   "cell_type": "markdown",
   "metadata": {},
   "source": [
    "<p style=\"font-family: Inter, sans-serif; font-size: 14px; color: rgba(0,0,0,.7)\">Больше колонка признак не понадобится, удалим ее.</p>"
   ]
  },
  {
   "cell_type": "code",
   "execution_count": null,
   "metadata": {},
   "outputs": [],
   "source": [
    "del legal_entity['Признак']"
   ]
  },
  {
   "cell_type": "markdown",
   "metadata": {},
   "source": [
    "<p style=\"font-family: Inter, sans-serif; font-size: 14px; color: rgba(0,0,0,.7)\">Выгрузим итоговый датасет.</p>"
   ]
  },
  {
   "cell_type": "code",
   "execution_count": null,
   "metadata": {},
   "outputs": [],
   "source": [
    "legal_entity.to_csv('data_msp.csv', index=False, encoding='utf-8')"
   ]
  },
  {
   "cell_type": "markdown",
   "metadata": {},
   "source": [
    "<a href=\"#part0\"><img src=\"https://i.ibb.co/d6BxNcg/image.png\" width=\"50\" height=\"50\" align=\"right\"></a>"
   ]
  }
 ],
 "metadata": {
  "hide_input": false,
  "kernelspec": {
   "display_name": "Python 3",
   "language": "python",
   "name": "python3"
  },
  "language_info": {
   "codemirror_mode": {
    "name": "ipython",
    "version": 3
   },
   "file_extension": ".py",
   "mimetype": "text/x-python",
   "name": "python",
   "nbconvert_exporter": "python",
   "pygments_lexer": "ipython3",
   "version": "3.8.3"
  },
  "varInspector": {
   "cols": {
    "lenName": 16,
    "lenType": 16,
    "lenVar": 40
   },
   "kernels_config": {
    "python": {
     "delete_cmd_postfix": "",
     "delete_cmd_prefix": "del ",
     "library": "var_list.py",
     "varRefreshCmd": "print(var_dic_list())"
    },
    "r": {
     "delete_cmd_postfix": ") ",
     "delete_cmd_prefix": "rm(",
     "library": "var_list.r",
     "varRefreshCmd": "cat(var_dic_list()) "
    }
   },
   "types_to_exclude": [
    "module",
    "function",
    "builtin_function_or_method",
    "instance",
    "_Feature"
   ],
   "window_display": false
  }
 },
 "nbformat": 4,
 "nbformat_minor": 4
}
